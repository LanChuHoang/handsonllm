{
 "cells": [
  {
   "cell_type": "code",
   "execution_count": 6,
   "metadata": {},
   "outputs": [
    {
     "name": "stdout",
     "output_type": "stream",
     "text": [
      "sqlite\n",
      "['singer', 'song']\n"
     ]
    },
    {
     "data": {
      "text/plain": [
       "'\\nCREATE TABLE singer (\\n\\t\"Singer_ID\" INTEGER, \\n\\t\"Name\" TEXT, \\n\\t\"Birth_Year\" REAL, \\n\\t\"Net_Worth_Millions\" REAL, \\n\\t\"Citizenship\" TEXT, \\n\\tPRIMARY KEY (\"Singer_ID\")\\n)\\n\\n/*\\n3 rows from singer table:\\nSinger_ID\\tName\\tBirth_Year\\tNet_Worth_Millions\\tCitizenship\\n1\\tLiliane Bettencourt\\t1944.0\\t30.0\\tFrance\\n2\\tChristy Walton\\t1948.0\\t28.8\\tUnited States\\n3\\tAlice Walton\\t1949.0\\t26.3\\tUnited States\\n*/'"
      ]
     },
     "execution_count": 6,
     "metadata": {},
     "output_type": "execute_result"
    }
   ],
   "source": [
    "from langchain_community.utilities import SQLDatabase\n",
    "\n",
    "db = SQLDatabase.from_uri(\"sqlite:///spider_data/database/singer/singer.sqlite\")\n",
    "print(db.dialect)\n",
    "print(db.get_usable_table_names())\n",
    "db.get_table_info([\"singer\"])"
   ]
  },
  {
   "cell_type": "code",
   "execution_count": 8,
   "metadata": {},
   "outputs": [
    {
     "data": {
      "text/html": [
       "<div>\n",
       "<style scoped>\n",
       "    .dataframe tbody tr th:only-of-type {\n",
       "        vertical-align: middle;\n",
       "    }\n",
       "\n",
       "    .dataframe tbody tr th {\n",
       "        vertical-align: top;\n",
       "    }\n",
       "\n",
       "    .dataframe thead th {\n",
       "        text-align: right;\n",
       "    }\n",
       "</style>\n",
       "<table border=\"1\" class=\"dataframe\">\n",
       "  <thead>\n",
       "    <tr style=\"text-align: right;\">\n",
       "      <th></th>\n",
       "      <th>\"Net Worth Millions\"</th>\n",
       "    </tr>\n",
       "  </thead>\n",
       "  <tbody>\n",
       "    <tr>\n",
       "      <th>0</th>\n",
       "      <td>Net Worth Millions</td>\n",
       "    </tr>\n",
       "    <tr>\n",
       "      <th>1</th>\n",
       "      <td>Net Worth Millions</td>\n",
       "    </tr>\n",
       "    <tr>\n",
       "      <th>2</th>\n",
       "      <td>Net Worth Millions</td>\n",
       "    </tr>\n",
       "    <tr>\n",
       "      <th>3</th>\n",
       "      <td>Net Worth Millions</td>\n",
       "    </tr>\n",
       "    <tr>\n",
       "      <th>4</th>\n",
       "      <td>Net Worth Millions</td>\n",
       "    </tr>\n",
       "    <tr>\n",
       "      <th>5</th>\n",
       "      <td>Net Worth Millions</td>\n",
       "    </tr>\n",
       "    <tr>\n",
       "      <th>6</th>\n",
       "      <td>Net Worth Millions</td>\n",
       "    </tr>\n",
       "    <tr>\n",
       "      <th>7</th>\n",
       "      <td>Net Worth Millions</td>\n",
       "    </tr>\n",
       "  </tbody>\n",
       "</table>\n",
       "</div>"
      ],
      "text/plain": [
       "  \"Net Worth Millions\"\n",
       "0   Net Worth Millions\n",
       "1   Net Worth Millions\n",
       "2   Net Worth Millions\n",
       "3   Net Worth Millions\n",
       "4   Net Worth Millions\n",
       "5   Net Worth Millions\n",
       "6   Net Worth Millions\n",
       "7   Net Worth Millions"
      ]
     },
     "execution_count": 8,
     "metadata": {},
     "output_type": "execute_result"
    }
   ],
   "source": [
    "import pandas as pd\n",
    "\n",
    "\n",
    "def query(db: SQLDatabase, query: str):\n",
    "    df = pd.read_sql(query, db._engine)\n",
    "    return df\n",
    "\n",
    "\n",
    "query(\n",
    "    db,\n",
    "    'SELECT \"Net Worth Millions\" FROM singer',\n",
    ")"
   ]
  },
  {
   "cell_type": "code",
   "execution_count": null,
   "metadata": {},
   "outputs": [],
   "source": []
  }
 ],
 "metadata": {
  "kernelspec": {
   "display_name": "handsonllm",
   "language": "python",
   "name": "python3"
  },
  "language_info": {
   "codemirror_mode": {
    "name": "ipython",
    "version": 3
   },
   "file_extension": ".py",
   "mimetype": "text/x-python",
   "name": "python",
   "nbconvert_exporter": "python",
   "pygments_lexer": "ipython3",
   "version": "3.11.11"
  }
 },
 "nbformat": 4,
 "nbformat_minor": 2
}
