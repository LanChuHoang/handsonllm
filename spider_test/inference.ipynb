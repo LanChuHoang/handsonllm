{
 "cells": [
  {
   "cell_type": "code",
   "execution_count": 37,
   "metadata": {},
   "outputs": [],
   "source": [
    "input_file_path = \"prepare_data/dev_input.csv\"\n",
    "model_name = \"llama3.2\"\n",
    "dialect = \"sqlite\"\n",
    "output_file_path = \"inference_data/dev_inference.txt\""
   ]
  },
  {
   "cell_type": "code",
   "execution_count": 20,
   "metadata": {},
   "outputs": [],
   "source": [
    "from langchain_core.prompts import PromptTemplate\n",
    "\n",
    "common_prompt_template = PromptTemplate.from_template(\n",
    "    \"\"\"You are an expert in {dialect}. Your job is to read and understand the following [Database Schema] description, along with any [Reference Information], and then use your knowledge of {dialect} to generate an SQL statement that answers the [User Question].\n",
    "\n",
    "[User Question]\n",
    "{user_question}\n",
    "\n",
    "[Database Schema]\n",
    "{schema}\n",
    "\n",
    "[Reference Information]\n",
    "None\n",
    "\n",
    "ONLY OUTPUT THE SQL STATEMENT, NO OTHER TEXT.\n",
    "\"\"\"\n",
    ")"
   ]
  },
  {
   "cell_type": "code",
   "execution_count": 21,
   "metadata": {},
   "outputs": [],
   "source": [
    "model_config = {\n",
    "    \"llama3.2\": {\n",
    "        \"model_name\": \"llama3.2\",\n",
    "        \"model_config_init\": {\n",
    "            \"temperature\": 0.0,\n",
    "        },\n",
    "        \"prompt_template\": common_prompt_template,\n",
    "    }\n",
    "}"
   ]
  },
  {
   "cell_type": "code",
   "execution_count": 23,
   "metadata": {},
   "outputs": [
    {
     "data": {
      "text/plain": [
       "AIMessage(content=\"Hello! It's nice to meet you. Is there something I can help you with or would you like to chat?\", additional_kwargs={}, response_metadata={'model': 'llama3.2', 'created_at': '2025-06-20T08:14:10.16633Z', 'done': True, 'done_reason': 'stop', 'total_duration': 3070754947, 'load_duration': 29486716, 'prompt_eval_count': 27, 'prompt_eval_duration': 547266687, 'eval_count': 25, 'eval_duration': 2492119598, 'model_name': 'llama3.2'}, id='run--0fa2758a-64ab-4fba-b50a-b38edd4d691f-0', usage_metadata={'input_tokens': 27, 'output_tokens': 25, 'total_tokens': 52})"
      ]
     },
     "execution_count": 23,
     "metadata": {},
     "output_type": "execute_result"
    }
   ],
   "source": [
    "from langchain_ollama import ChatOllama\n",
    "\n",
    "\n",
    "llm = ChatOllama(\n",
    "    model=model_config[model_name][\"model_name\"],\n",
    "    **model_config[model_name][\"model_config_init\"]\n",
    ")\n",
    "llm.invoke(\"Hello world\")"
   ]
  },
  {
   "cell_type": "code",
   "execution_count": 39,
   "metadata": {},
   "outputs": [],
   "source": [
    "prompt_template = model_config[model_name][\"prompt_template\"]\n",
    "\n",
    "\n",
    "def generate_sql(user_question: str, schema_list: list[str], dialect: str):\n",
    "    message = prompt_template.invoke(\n",
    "        {\n",
    "            \"user_question\": user_question,\n",
    "            \"schema\": \"\\n\".join(schema_list),\n",
    "            \"dialect\": dialect,\n",
    "        }\n",
    "    )\n",
    "    message = llm.invoke(message).content\n",
    "    # format the message to be a valid sql statement\n",
    "    message = (\n",
    "        message.strip()\n",
    "        .replace(\"```sql\", \"\")\n",
    "        .replace(\"```\", \"\")\n",
    "        .replace(\"\\n\", \"\")\n",
    "        .replace(\"\\t\", \"\")\n",
    "    )\n",
    "    print(f\"Generated answer for question: {user_question[:20]}...\")\n",
    "    return message"
   ]
  },
  {
   "cell_type": "code",
   "execution_count": 40,
   "metadata": {},
   "outputs": [
    {
     "name": "stdout",
     "output_type": "stream",
     "text": [
      "Generated answer for question: How many singers do ...\n"
     ]
    },
    {
     "data": {
      "text/plain": [
       "'SELECT COUNT(*) FROM singer;'"
      ]
     },
     "execution_count": 40,
     "metadata": {},
     "output_type": "execute_result"
    }
   ],
   "source": [
    "generate_sql(\n",
    "    \"How many singers do we have?\",\n",
    "    [\n",
    "        'CREATE TABLE \"singer\" (\\n\"Singer_ID\" int,\\n\"Name\" text,\\n\"Country\" text,\\n\"Song_Name\" text,\\n\"Song_release_year\" text,\\n\"Age\" int,\\n\"Is_male\" bool,\\nPRIMARY KEY (\"Singer_ID\")\\n)'\n",
    "    ],\n",
    "    dialect,\n",
    ")"
   ]
  },
  {
   "cell_type": "code",
   "execution_count": 30,
   "metadata": {},
   "outputs": [
    {
     "data": {
      "text/html": [
       "<div>\n",
       "<style scoped>\n",
       "    .dataframe tbody tr th:only-of-type {\n",
       "        vertical-align: middle;\n",
       "    }\n",
       "\n",
       "    .dataframe tbody tr th {\n",
       "        vertical-align: top;\n",
       "    }\n",
       "\n",
       "    .dataframe thead th {\n",
       "        text-align: right;\n",
       "    }\n",
       "</style>\n",
       "<table border=\"1\" class=\"dataframe\">\n",
       "  <thead>\n",
       "    <tr style=\"text-align: right;\">\n",
       "      <th></th>\n",
       "      <th>question_number</th>\n",
       "      <th>question</th>\n",
       "      <th>db_id</th>\n",
       "      <th>tables</th>\n",
       "      <th>schemas</th>\n",
       "    </tr>\n",
       "  </thead>\n",
       "  <tbody>\n",
       "    <tr>\n",
       "      <th>0</th>\n",
       "      <td>0</td>\n",
       "      <td>How many singers do we have?</td>\n",
       "      <td>concert_singer</td>\n",
       "      <td>['singer']</td>\n",
       "      <td>['CREATE TABLE \"singer\" (\\n\"Singer_ID\" int,\\n\"...</td>\n",
       "    </tr>\n",
       "    <tr>\n",
       "      <th>1</th>\n",
       "      <td>1</td>\n",
       "      <td>What is the total number of singers?</td>\n",
       "      <td>concert_singer</td>\n",
       "      <td>['singer']</td>\n",
       "      <td>['CREATE TABLE \"singer\" (\\n\"Singer_ID\" int,\\n\"...</td>\n",
       "    </tr>\n",
       "    <tr>\n",
       "      <th>2</th>\n",
       "      <td>2</td>\n",
       "      <td>Show name, country, age for all singers ordere...</td>\n",
       "      <td>concert_singer</td>\n",
       "      <td>['singer']</td>\n",
       "      <td>['CREATE TABLE \"singer\" (\\n\"Singer_ID\" int,\\n\"...</td>\n",
       "    </tr>\n",
       "    <tr>\n",
       "      <th>3</th>\n",
       "      <td>3</td>\n",
       "      <td>What are the names, countries, and ages for ev...</td>\n",
       "      <td>concert_singer</td>\n",
       "      <td>['singer']</td>\n",
       "      <td>['CREATE TABLE \"singer\" (\\n\"Singer_ID\" int,\\n\"...</td>\n",
       "    </tr>\n",
       "    <tr>\n",
       "      <th>4</th>\n",
       "      <td>4</td>\n",
       "      <td>What is the average, minimum, and maximum age ...</td>\n",
       "      <td>concert_singer</td>\n",
       "      <td>['singer']</td>\n",
       "      <td>['CREATE TABLE \"singer\" (\\n\"Singer_ID\" int,\\n\"...</td>\n",
       "    </tr>\n",
       "    <tr>\n",
       "      <th>...</th>\n",
       "      <td>...</td>\n",
       "      <td>...</td>\n",
       "      <td>...</td>\n",
       "      <td>...</td>\n",
       "      <td>...</td>\n",
       "    </tr>\n",
       "    <tr>\n",
       "      <th>1029</th>\n",
       "      <td>1029</td>\n",
       "      <td>What are the citizenships that are shared by s...</td>\n",
       "      <td>singer</td>\n",
       "      <td>['singer']</td>\n",
       "      <td>['CREATE TABLE \"singer\" (\\n\"Singer_ID\" int,\\n\"...</td>\n",
       "    </tr>\n",
       "    <tr>\n",
       "      <th>1030</th>\n",
       "      <td>1030</td>\n",
       "      <td>How many available features are there in total?</td>\n",
       "      <td>real_estate_properties</td>\n",
       "      <td>['Other_Available_Features']</td>\n",
       "      <td>['CREATE TABLE `Other_Available_Features` (\\n`...</td>\n",
       "    </tr>\n",
       "    <tr>\n",
       "      <th>1031</th>\n",
       "      <td>1031</td>\n",
       "      <td>What is the feature type name of feature AirCon?</td>\n",
       "      <td>real_estate_properties</td>\n",
       "      <td>['Other_Available_Features', 'Ref_Feature_Types']</td>\n",
       "      <td>['CREATE TABLE `Other_Available_Features` (\\n`...</td>\n",
       "    </tr>\n",
       "    <tr>\n",
       "      <th>1032</th>\n",
       "      <td>1032</td>\n",
       "      <td>Show the property type descriptions of propert...</td>\n",
       "      <td>real_estate_properties</td>\n",
       "      <td>['Properties', 'Ref_Property_Types']</td>\n",
       "      <td>['CREATE TABLE `Properties` (\\n`property_id` I...</td>\n",
       "    </tr>\n",
       "    <tr>\n",
       "      <th>1033</th>\n",
       "      <td>1033</td>\n",
       "      <td>What are the names of properties that are eith...</td>\n",
       "      <td>real_estate_properties</td>\n",
       "      <td>['Properties']</td>\n",
       "      <td>['CREATE TABLE `Properties` (\\n`property_id` I...</td>\n",
       "    </tr>\n",
       "  </tbody>\n",
       "</table>\n",
       "<p>1034 rows × 5 columns</p>\n",
       "</div>"
      ],
      "text/plain": [
       "      question_number                                           question  \\\n",
       "0                   0                       How many singers do we have?   \n",
       "1                   1               What is the total number of singers?   \n",
       "2                   2  Show name, country, age for all singers ordere...   \n",
       "3                   3  What are the names, countries, and ages for ev...   \n",
       "4                   4  What is the average, minimum, and maximum age ...   \n",
       "...               ...                                                ...   \n",
       "1029             1029  What are the citizenships that are shared by s...   \n",
       "1030             1030    How many available features are there in total?   \n",
       "1031             1031   What is the feature type name of feature AirCon?   \n",
       "1032             1032  Show the property type descriptions of propert...   \n",
       "1033             1033  What are the names of properties that are eith...   \n",
       "\n",
       "                       db_id  \\\n",
       "0             concert_singer   \n",
       "1             concert_singer   \n",
       "2             concert_singer   \n",
       "3             concert_singer   \n",
       "4             concert_singer   \n",
       "...                      ...   \n",
       "1029                  singer   \n",
       "1030  real_estate_properties   \n",
       "1031  real_estate_properties   \n",
       "1032  real_estate_properties   \n",
       "1033  real_estate_properties   \n",
       "\n",
       "                                                 tables  \\\n",
       "0                                            ['singer']   \n",
       "1                                            ['singer']   \n",
       "2                                            ['singer']   \n",
       "3                                            ['singer']   \n",
       "4                                            ['singer']   \n",
       "...                                                 ...   \n",
       "1029                                         ['singer']   \n",
       "1030                       ['Other_Available_Features']   \n",
       "1031  ['Other_Available_Features', 'Ref_Feature_Types']   \n",
       "1032               ['Properties', 'Ref_Property_Types']   \n",
       "1033                                     ['Properties']   \n",
       "\n",
       "                                                schemas  \n",
       "0     ['CREATE TABLE \"singer\" (\\n\"Singer_ID\" int,\\n\"...  \n",
       "1     ['CREATE TABLE \"singer\" (\\n\"Singer_ID\" int,\\n\"...  \n",
       "2     ['CREATE TABLE \"singer\" (\\n\"Singer_ID\" int,\\n\"...  \n",
       "3     ['CREATE TABLE \"singer\" (\\n\"Singer_ID\" int,\\n\"...  \n",
       "4     ['CREATE TABLE \"singer\" (\\n\"Singer_ID\" int,\\n\"...  \n",
       "...                                                 ...  \n",
       "1029  ['CREATE TABLE \"singer\" (\\n\"Singer_ID\" int,\\n\"...  \n",
       "1030  ['CREATE TABLE `Other_Available_Features` (\\n`...  \n",
       "1031  ['CREATE TABLE `Other_Available_Features` (\\n`...  \n",
       "1032  ['CREATE TABLE `Properties` (\\n`property_id` I...  \n",
       "1033  ['CREATE TABLE `Properties` (\\n`property_id` I...  \n",
       "\n",
       "[1034 rows x 5 columns]"
      ]
     },
     "execution_count": 30,
     "metadata": {},
     "output_type": "execute_result"
    }
   ],
   "source": [
    "import pandas as pd\n",
    "\n",
    "df = pd.read_csv(input_file_path)\n",
    "df"
   ]
  },
  {
   "cell_type": "code",
   "execution_count": 35,
   "metadata": {},
   "outputs": [
    {
     "name": "stdout",
     "output_type": "stream",
     "text": [
      "Generated answer for question: How many singers do ...\n",
      "Generated answer for question: What is the total nu...\n"
     ]
    },
    {
     "data": {
      "text/html": [
       "<div>\n",
       "<style scoped>\n",
       "    .dataframe tbody tr th:only-of-type {\n",
       "        vertical-align: middle;\n",
       "    }\n",
       "\n",
       "    .dataframe tbody tr th {\n",
       "        vertical-align: top;\n",
       "    }\n",
       "\n",
       "    .dataframe thead th {\n",
       "        text-align: right;\n",
       "    }\n",
       "</style>\n",
       "<table border=\"1\" class=\"dataframe\">\n",
       "  <thead>\n",
       "    <tr style=\"text-align: right;\">\n",
       "      <th></th>\n",
       "      <th>question_number</th>\n",
       "      <th>question</th>\n",
       "      <th>db_id</th>\n",
       "      <th>tables</th>\n",
       "      <th>schemas</th>\n",
       "      <th>answer</th>\n",
       "    </tr>\n",
       "  </thead>\n",
       "  <tbody>\n",
       "    <tr>\n",
       "      <th>0</th>\n",
       "      <td>0</td>\n",
       "      <td>How many singers do we have?</td>\n",
       "      <td>concert_singer</td>\n",
       "      <td>['singer']</td>\n",
       "      <td>['CREATE TABLE \"singer\" (\\n\"Singer_ID\" int,\\n\"...</td>\n",
       "      <td>SELECT COUNT(*) FROM singer;</td>\n",
       "    </tr>\n",
       "    <tr>\n",
       "      <th>1</th>\n",
       "      <td>1</td>\n",
       "      <td>What is the total number of singers?</td>\n",
       "      <td>concert_singer</td>\n",
       "      <td>['singer']</td>\n",
       "      <td>['CREATE TABLE \"singer\" (\\n\"Singer_ID\" int,\\n\"...</td>\n",
       "      <td>SELECT COUNT(*) FROM singer;</td>\n",
       "    </tr>\n",
       "  </tbody>\n",
       "</table>\n",
       "</div>"
      ],
      "text/plain": [
       "   question_number                              question           db_id  \\\n",
       "0                0          How many singers do we have?  concert_singer   \n",
       "1                1  What is the total number of singers?  concert_singer   \n",
       "\n",
       "       tables                                            schemas  \\\n",
       "0  ['singer']  ['CREATE TABLE \"singer\" (\\n\"Singer_ID\" int,\\n\"...   \n",
       "1  ['singer']  ['CREATE TABLE \"singer\" (\\n\"Singer_ID\" int,\\n\"...   \n",
       "\n",
       "                         answer  \n",
       "0  SELECT COUNT(*) FROM singer;  \n",
       "1  SELECT COUNT(*) FROM singer;  "
      ]
     },
     "execution_count": 35,
     "metadata": {},
     "output_type": "execute_result"
    }
   ],
   "source": [
    "inference_df = df.head(2).assign(\n",
    "    answer=lambda df_: df_.apply(\n",
    "        lambda row: generate_sql(row.question, row.schemas, dialect), axis=1\n",
    "    )\n",
    ")\n",
    "inference_df"
   ]
  },
  {
   "cell_type": "code",
   "execution_count": 38,
   "metadata": {},
   "outputs": [],
   "source": [
    "with open(output_file_path, \"w+\") as f:\n",
    "    answer_list = inference_df[\"answer\"].tolist()\n",
    "    f.write(\"\\n\".join(answer_list))"
   ]
  },
  {
   "cell_type": "code",
   "execution_count": null,
   "metadata": {},
   "outputs": [],
   "source": []
  }
 ],
 "metadata": {
  "kernelspec": {
   "display_name": "handsonllm",
   "language": "python",
   "name": "python3"
  },
  "language_info": {
   "codemirror_mode": {
    "name": "ipython",
    "version": 3
   },
   "file_extension": ".py",
   "mimetype": "text/x-python",
   "name": "python",
   "nbconvert_exporter": "python",
   "pygments_lexer": "ipython3",
   "version": "3.11.11"
  }
 },
 "nbformat": 4,
 "nbformat_minor": 2
}
