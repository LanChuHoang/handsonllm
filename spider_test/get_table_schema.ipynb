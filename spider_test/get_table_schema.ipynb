{
 "cells": [
  {
   "cell_type": "code",
   "execution_count": 1,
   "metadata": {},
   "outputs": [],
   "source": [
    "import os\n",
    "import sqlite3\n",
    "import pandas as pd\n",
    "\n",
    "\n",
    "def gather_schemas(root_dir: str) -> pd.DataFrame:\n",
    "    \"\"\"\n",
    "    Walk root_dir for .sqlite files. For each, connect and extract\n",
    "    each table's CREATE statement. Returns a DataFrame with columns:\n",
    "      - db_id : filename without .sqlite\n",
    "      - table : table name\n",
    "      - schema: CREATE TABLE ... statement\n",
    "    \"\"\"\n",
    "    records = []\n",
    "\n",
    "    for dirpath, _, filenames in os.walk(root_dir):\n",
    "        for fn in filenames:\n",
    "            if fn.lower().endswith(\".sqlite\"):\n",
    "                path = os.path.join(dirpath, fn)\n",
    "                db_id = os.path.splitext(fn)[0]\n",
    "                # connect to sqlite\n",
    "                conn = sqlite3.connect(path)\n",
    "                try:\n",
    "                    cursor = conn.cursor()\n",
    "                    # get list of tables\n",
    "                    cursor.execute(\n",
    "                        \"SELECT name FROM sqlite_master WHERE type='table' AND name NOT LIKE 'sqlite_%';\"\n",
    "                    )\n",
    "                    tables = [row[0] for row in cursor.fetchall()]\n",
    "\n",
    "                    for table in tables:\n",
    "                        # get CREATE statement\n",
    "                        cursor.execute(\n",
    "                            \"SELECT sql FROM sqlite_master WHERE type='table' AND name=?;\",\n",
    "                            (table,),\n",
    "                        )\n",
    "                        row = cursor.fetchone()\n",
    "                        schema = row[0] if row and row[0] else \"\"\n",
    "                        records.append(\n",
    "                            {\"db_id\": db_id, \"table\": table, \"schema\": schema}\n",
    "                        )\n",
    "                finally:\n",
    "                    conn.close()\n",
    "\n",
    "    return pd.DataFrame(records, columns=[\"db_id\", \"table\", \"schema\"])"
   ]
  },
  {
   "cell_type": "code",
   "execution_count": 2,
   "metadata": {},
   "outputs": [
    {
     "name": "stdout",
     "output_type": "stream",
     "text": [
      "Wrote 873 records to ./schemas.csv\n"
     ]
    }
   ],
   "source": [
    "root_dir = \"spider_data/database\"\n",
    "output = None\n",
    "output = \"./schemas.csv\"\n",
    "\n",
    "df = gather_schemas(root_dir)\n",
    "\n",
    "if output:\n",
    "    df.to_csv(output, index=False)\n",
    "    print(f\"Wrote {len(df)} records to {output}\")\n",
    "else:\n",
    "    print(df)"
   ]
  }
 ],
 "metadata": {
  "kernelspec": {
   "display_name": "handsonllm",
   "language": "python",
   "name": "python3"
  },
  "language_info": {
   "codemirror_mode": {
    "name": "ipython",
    "version": 3
   },
   "file_extension": ".py",
   "mimetype": "text/x-python",
   "name": "python",
   "nbconvert_exporter": "python",
   "pygments_lexer": "ipython3",
   "version": "3.11.11"
  }
 },
 "nbformat": 4,
 "nbformat_minor": 2
}
