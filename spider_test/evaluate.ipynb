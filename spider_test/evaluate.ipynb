{
 "cells": [
  {
   "cell_type": "markdown",
   "metadata": {},
   "source": [
    "### Dataset Exploration"
   ]
  },
  {
   "cell_type": "code",
   "execution_count": 10,
   "metadata": {},
   "outputs": [],
   "source": [
    "import pandas as pd\n",
    "from IPython.display import display, Markdown\n",
    "\n",
    "\n",
    "def display_report(dfs: dict[str, pd.DataFrame], report_title: str = None):\n",
    "    \"\"\"\n",
    "    Pretty-print multiple DataFrames in a notebook with section headings.\n",
    "\n",
    "    :param dfs: A dict mapping section titles to their DataFrame.\n",
    "    :param report_title: Optional top-level title for the report.\n",
    "    \"\"\"\n",
    "    if report_title:\n",
    "        display(Markdown(f\"## {report_title}\\n\"))\n",
    "    for section, df in dfs.items():\n",
    "        display(Markdown(f\"### {section}\\n\"))\n",
    "        display(\n",
    "            df.style.set_table_styles(\n",
    "                [\n",
    "                    {\n",
    "                        \"selector\": \"th\",\n",
    "                        \"props\": [\n",
    "                            (\"text-align\", \"center\"),\n",
    "                        ],\n",
    "                    },\n",
    "                    {\"selector\": \"td\", \"props\": [(\"padding\", \"6px\")]},\n",
    "                ]\n",
    "            )\n",
    "        )\n",
    "        display(Markdown(\"---\"))"
   ]
  },
  {
   "cell_type": "code",
   "execution_count": 11,
   "metadata": {},
   "outputs": [
    {
     "data": {
      "text/markdown": [
       "## Dataset Exploration\n"
      ],
      "text/plain": [
       "<IPython.core.display.Markdown object>"
      ]
     },
     "metadata": {},
     "output_type": "display_data"
    },
    {
     "data": {
      "text/markdown": [
       "### Easy questions\n"
      ],
      "text/plain": [
       "<IPython.core.display.Markdown object>"
      ]
     },
     "metadata": {},
     "output_type": "display_data"
    },
    {
     "data": {
      "text/html": [
       "<style type=\"text/css\">\n",
       "#T_9156e th {\n",
       "  text-align: center;\n",
       "}\n",
       "#T_9156e td {\n",
       "  padding: 6px;\n",
       "}\n",
       "</style>\n",
       "<table id=\"T_9156e\">\n",
       "  <thead>\n",
       "    <tr>\n",
       "      <th class=\"blank level0\" >&nbsp;</th>\n",
       "      <th id=\"T_9156e_level0_col0\" class=\"col_heading level0 col0\" >question</th>\n",
       "      <th id=\"T_9156e_level0_col1\" class=\"col_heading level0 col1\" >hardness</th>\n",
       "      <th id=\"T_9156e_level0_col2\" class=\"col_heading level0 col2\" >solution_query</th>\n",
       "    </tr>\n",
       "  </thead>\n",
       "  <tbody>\n",
       "    <tr>\n",
       "      <th id=\"T_9156e_level0_row0\" class=\"row_heading level0 row0\" >0</th>\n",
       "      <td id=\"T_9156e_row0_col0\" class=\"data row0 col0\" >How many clubs are there?</td>\n",
       "      <td id=\"T_9156e_row0_col1\" class=\"data row0 col1\" >easy</td>\n",
       "      <td id=\"T_9156e_row0_col2\" class=\"data row0 col2\" >SELECT count(*) FROM club</td>\n",
       "    </tr>\n",
       "    <tr>\n",
       "      <th id=\"T_9156e_level0_row1\" class=\"row_heading level0 row1\" >1</th>\n",
       "      <td id=\"T_9156e_row1_col0\" class=\"data row1 col0\" >Count the number of clubs.</td>\n",
       "      <td id=\"T_9156e_row1_col1\" class=\"data row1 col1\" >easy</td>\n",
       "      <td id=\"T_9156e_row1_col2\" class=\"data row1 col2\" >SELECT count(*) FROM club</td>\n",
       "    </tr>\n",
       "    <tr>\n",
       "      <th id=\"T_9156e_level0_row2\" class=\"row_heading level0 row2\" >2</th>\n",
       "      <td id=\"T_9156e_row2_col0\" class=\"data row2 col0\" >List the name of clubs in ascending alphabetical order.</td>\n",
       "      <td id=\"T_9156e_row2_col1\" class=\"data row2 col1\" >easy</td>\n",
       "      <td id=\"T_9156e_row2_col2\" class=\"data row2 col2\" >SELECT Name FROM club ORDER BY Name ASC</td>\n",
       "    </tr>\n",
       "  </tbody>\n",
       "</table>\n"
      ],
      "text/plain": [
       "<pandas.io.formats.style.Styler at 0x108bbab10>"
      ]
     },
     "metadata": {},
     "output_type": "display_data"
    },
    {
     "data": {
      "text/markdown": [
       "---"
      ],
      "text/plain": [
       "<IPython.core.display.Markdown object>"
      ]
     },
     "metadata": {},
     "output_type": "display_data"
    },
    {
     "data": {
      "text/markdown": [
       "### Medium questions\n"
      ],
      "text/plain": [
       "<IPython.core.display.Markdown object>"
      ]
     },
     "metadata": {},
     "output_type": "display_data"
    },
    {
     "data": {
      "text/html": [
       "<style type=\"text/css\">\n",
       "#T_40adf th {\n",
       "  text-align: center;\n",
       "}\n",
       "#T_40adf td {\n",
       "  padding: 6px;\n",
       "}\n",
       "</style>\n",
       "<table id=\"T_40adf\">\n",
       "  <thead>\n",
       "    <tr>\n",
       "      <th class=\"blank level0\" >&nbsp;</th>\n",
       "      <th id=\"T_40adf_level0_col0\" class=\"col_heading level0 col0\" >question</th>\n",
       "      <th id=\"T_40adf_level0_col1\" class=\"col_heading level0 col1\" >hardness</th>\n",
       "      <th id=\"T_40adf_level0_col2\" class=\"col_heading level0 col2\" >solution_query</th>\n",
       "    </tr>\n",
       "  </thead>\n",
       "  <tbody>\n",
       "    <tr>\n",
       "      <th id=\"T_40adf_level0_row0\" class=\"row_heading level0 row0\" >4</th>\n",
       "      <td id=\"T_40adf_row0_col0\" class=\"data row0 col0\" >What are the managers and captains of clubs?</td>\n",
       "      <td id=\"T_40adf_row0_col1\" class=\"data row0 col1\" >medium</td>\n",
       "      <td id=\"T_40adf_row0_col2\" class=\"data row0 col2\" >SELECT Manager ,  Captain FROM club</td>\n",
       "    </tr>\n",
       "    <tr>\n",
       "      <th id=\"T_40adf_level0_row1\" class=\"row_heading level0 row1\" >5</th>\n",
       "      <td id=\"T_40adf_row1_col0\" class=\"data row1 col0\" >Return the managers and captains of all clubs.</td>\n",
       "      <td id=\"T_40adf_row1_col1\" class=\"data row1 col1\" >medium</td>\n",
       "      <td id=\"T_40adf_row1_col2\" class=\"data row1 col2\" >SELECT Manager ,  Captain FROM club</td>\n",
       "    </tr>\n",
       "    <tr>\n",
       "      <th id=\"T_40adf_level0_row2\" class=\"row_heading level0 row2\" >10</th>\n",
       "      <td id=\"T_40adf_row2_col0\" class=\"data row2 col0\" >What is the name of the player with the highest earnings?</td>\n",
       "      <td id=\"T_40adf_row2_col1\" class=\"data row2 col1\" >medium</td>\n",
       "      <td id=\"T_40adf_row2_col2\" class=\"data row2 col2\" >SELECT Name FROM player ORDER BY Earnings DESC LIMIT 1</td>\n",
       "    </tr>\n",
       "  </tbody>\n",
       "</table>\n"
      ],
      "text/plain": [
       "<pandas.io.formats.style.Styler at 0x10d46b450>"
      ]
     },
     "metadata": {},
     "output_type": "display_data"
    },
    {
     "data": {
      "text/markdown": [
       "---"
      ],
      "text/plain": [
       "<IPython.core.display.Markdown object>"
      ]
     },
     "metadata": {},
     "output_type": "display_data"
    },
    {
     "data": {
      "text/markdown": [
       "### Hard questions\n"
      ],
      "text/plain": [
       "<IPython.core.display.Markdown object>"
      ]
     },
     "metadata": {},
     "output_type": "display_data"
    },
    {
     "data": {
      "text/html": [
       "<style type=\"text/css\">\n",
       "#T_0f069 th {\n",
       "  text-align: center;\n",
       "}\n",
       "#T_0f069 td {\n",
       "  padding: 6px;\n",
       "}\n",
       "</style>\n",
       "<table id=\"T_0f069\">\n",
       "  <thead>\n",
       "    <tr>\n",
       "      <th class=\"blank level0\" >&nbsp;</th>\n",
       "      <th id=\"T_0f069_level0_col0\" class=\"col_heading level0 col0\" >question</th>\n",
       "      <th id=\"T_0f069_level0_col1\" class=\"col_heading level0 col1\" >hardness</th>\n",
       "      <th id=\"T_0f069_level0_col2\" class=\"col_heading level0 col2\" >solution_query</th>\n",
       "    </tr>\n",
       "  </thead>\n",
       "  <tbody>\n",
       "    <tr>\n",
       "      <th id=\"T_0f069_level0_row0\" class=\"row_heading level0 row0\" >14</th>\n",
       "      <td id=\"T_0f069_row0_col0\" class=\"data row0 col0\" >What is the country of the player with the highest earnings among players that have more than 2 win counts?</td>\n",
       "      <td id=\"T_0f069_row0_col1\" class=\"data row0 col1\" >hard</td>\n",
       "      <td id=\"T_0f069_row0_col2\" class=\"data row0 col2\" >SELECT Country FROM player WHERE Wins_count  >  2 ORDER BY Earnings DESC LIMIT 1</td>\n",
       "    </tr>\n",
       "    <tr>\n",
       "      <th id=\"T_0f069_level0_row1\" class=\"row_heading level0 row1\" >15</th>\n",
       "      <td id=\"T_0f069_row1_col0\" class=\"data row1 col0\" >Of players who have more than 2 wins, what is the country of the player who makes the most?</td>\n",
       "      <td id=\"T_0f069_row1_col1\" class=\"data row1 col1\" >hard</td>\n",
       "      <td id=\"T_0f069_row1_col2\" class=\"data row1 col2\" >SELECT Country FROM player WHERE Wins_count  >  2 ORDER BY Earnings DESC LIMIT 1</td>\n",
       "    </tr>\n",
       "    <tr>\n",
       "      <th id=\"T_0f069_level0_row2\" class=\"row_heading level0 row2\" >22</th>\n",
       "      <td id=\"T_0f069_row2_col0\" class=\"data row2 col0\" >Show names of clubs in descending order of average earnings of players belonging.</td>\n",
       "      <td id=\"T_0f069_row2_col1\" class=\"data row2 col1\" >hard</td>\n",
       "      <td id=\"T_0f069_row2_col2\" class=\"data row2 col2\" >SELECT T1.Name FROM club AS T1 JOIN player AS T2 ON T1.Club_ID  =  T2.Club_ID GROUP BY T1.Club_ID ORDER BY avg(T2.Earnings) DESC</td>\n",
       "    </tr>\n",
       "  </tbody>\n",
       "</table>\n"
      ],
      "text/plain": [
       "<pandas.io.formats.style.Styler at 0x10b0be0d0>"
      ]
     },
     "metadata": {},
     "output_type": "display_data"
    },
    {
     "data": {
      "text/markdown": [
       "---"
      ],
      "text/plain": [
       "<IPython.core.display.Markdown object>"
      ]
     },
     "metadata": {},
     "output_type": "display_data"
    },
    {
     "data": {
      "text/markdown": [
       "### Extra hard questions\n"
      ],
      "text/plain": [
       "<IPython.core.display.Markdown object>"
      ]
     },
     "metadata": {},
     "output_type": "display_data"
    },
    {
     "data": {
      "text/html": [
       "<style type=\"text/css\">\n",
       "#T_2ff18 th {\n",
       "  text-align: center;\n",
       "}\n",
       "#T_2ff18 td {\n",
       "  padding: 6px;\n",
       "}\n",
       "</style>\n",
       "<table id=\"T_2ff18\">\n",
       "  <thead>\n",
       "    <tr>\n",
       "      <th class=\"blank level0\" >&nbsp;</th>\n",
       "      <th id=\"T_2ff18_level0_col0\" class=\"col_heading level0 col0\" >question</th>\n",
       "      <th id=\"T_2ff18_level0_col1\" class=\"col_heading level0 col1\" >hardness</th>\n",
       "      <th id=\"T_2ff18_level0_col2\" class=\"col_heading level0 col2\" >solution_query</th>\n",
       "    </tr>\n",
       "  </thead>\n",
       "  <tbody>\n",
       "    <tr>\n",
       "      <th id=\"T_2ff18_level0_row0\" class=\"row_heading level0 row0\" >40</th>\n",
       "      <td id=\"T_2ff18_row0_col0\" class=\"data row0 col0\" >List the id, first name and last name of the customers who both have placed more than 2 orders and have bought at least 3 items.</td>\n",
       "      <td id=\"T_2ff18_row0_col1\" class=\"data row0 col1\" >extra</td>\n",
       "      <td id=\"T_2ff18_row0_col2\" class=\"data row0 col2\" >SELECT T1.customer_id ,  T1.customer_first_name ,  T1.customer_last_name FROM Customers AS T1 JOIN Orders AS T2 ON T1.customer_id  =  T2.customer_id GROUP BY T1.customer_id HAVING count(*)  >  2 INTERSECT SELECT T1.customer_id ,  T1.customer_first_name ,  T1.customer_last_name FROM Customers AS T1 JOIN Orders AS T2 ON T1.customer_id  =  T2.customer_id JOIN Order_items AS T3 ON T2.order_id  =  T3.order_id GROUP BY T1.customer_id HAVING count(*)  >= 3</td>\n",
       "    </tr>\n",
       "    <tr>\n",
       "      <th id=\"T_2ff18_level0_row1\" class=\"row_heading level0 row1\" >41</th>\n",
       "      <td id=\"T_2ff18_row1_col0\" class=\"data row1 col0\" >What are the ids, first and last names of the customers who have ordered more than twice and have bought at least 3 items?</td>\n",
       "      <td id=\"T_2ff18_row1_col1\" class=\"data row1 col1\" >extra</td>\n",
       "      <td id=\"T_2ff18_row1_col2\" class=\"data row1 col2\" >SELECT T1.customer_id ,  T1.customer_first_name ,  T1.customer_last_name FROM Customers AS T1 JOIN Orders AS T2 ON T1.customer_id  =  T2.customer_id GROUP BY T1.customer_id HAVING count(*)  >  2 INTERSECT SELECT T1.customer_id ,  T1.customer_first_name ,  T1.customer_last_name FROM Customers AS T1 JOIN Orders AS T2 ON T1.customer_id  =  T2.customer_id JOIN Order_items AS T3 ON T2.order_id  =  T3.order_id GROUP BY T1.customer_id HAVING count(*)  >= 3</td>\n",
       "    </tr>\n",
       "    <tr>\n",
       "      <th id=\"T_2ff18_level0_row2\" class=\"row_heading level0 row2\" >46</th>\n",
       "      <td id=\"T_2ff18_row2_col0\" class=\"data row2 col0\" >Which customers did not make any orders? List the first name, middle initial and last name.</td>\n",
       "      <td id=\"T_2ff18_row2_col1\" class=\"data row2 col1\" >extra</td>\n",
       "      <td id=\"T_2ff18_row2_col2\" class=\"data row2 col2\" >SELECT customer_first_name ,  customer_middle_initial ,  customer_last_name FROM Customers EXCEPT SELECT T1.customer_first_name ,  T1.customer_middle_initial ,  T1.customer_last_name FROM Customers AS T1 JOIN Orders AS T2 ON T1.customer_id  =  T2.customer_id</td>\n",
       "    </tr>\n",
       "  </tbody>\n",
       "</table>\n"
      ],
      "text/plain": [
       "<pandas.io.formats.style.Styler at 0x108bbab10>"
      ]
     },
     "metadata": {},
     "output_type": "display_data"
    },
    {
     "data": {
      "text/markdown": [
       "---"
      ],
      "text/plain": [
       "<IPython.core.display.Markdown object>"
      ]
     },
     "metadata": {},
     "output_type": "display_data"
    },
    {
     "data": {
      "text/markdown": [
       "### Overall\n"
      ],
      "text/plain": [
       "<IPython.core.display.Markdown object>"
      ]
     },
     "metadata": {},
     "output_type": "display_data"
    },
    {
     "data": {
      "text/html": [
       "<style type=\"text/css\">\n",
       "#T_e3b15 th {\n",
       "  text-align: center;\n",
       "}\n",
       "#T_e3b15 td {\n",
       "  padding: 6px;\n",
       "}\n",
       "</style>\n",
       "<table id=\"T_e3b15\">\n",
       "  <thead>\n",
       "    <tr>\n",
       "      <th class=\"blank level0\" >&nbsp;</th>\n",
       "      <th id=\"T_e3b15_level0_col0\" class=\"col_heading level0 col0\" >dataset</th>\n",
       "      <th id=\"T_e3b15_level0_col1\" class=\"col_heading level0 col1\" >num_dbs</th>\n",
       "      <th id=\"T_e3b15_level0_col2\" class=\"col_heading level0 col2\" >num_tables</th>\n",
       "      <th id=\"T_e3b15_level0_col3\" class=\"col_heading level0 col3\" >average_tables_per_db</th>\n",
       "      <th id=\"T_e3b15_level0_col4\" class=\"col_heading level0 col4\" >num_questions</th>\n",
       "      <th id=\"T_e3b15_level0_col5\" class=\"col_heading level0 col5\" >num_easy_questions</th>\n",
       "      <th id=\"T_e3b15_level0_col6\" class=\"col_heading level0 col6\" >num_medium_questions</th>\n",
       "      <th id=\"T_e3b15_level0_col7\" class=\"col_heading level0 col7\" >num_hard_questions</th>\n",
       "      <th id=\"T_e3b15_level0_col8\" class=\"col_heading level0 col8\" >num_extra_questions</th>\n",
       "    </tr>\n",
       "  </thead>\n",
       "  <tbody>\n",
       "    <tr>\n",
       "      <th id=\"T_e3b15_level0_row0\" class=\"row_heading level0 row0\" >0</th>\n",
       "      <td id=\"T_e3b15_row0_col0\" class=\"data row0 col0\" >dev</td>\n",
       "      <td id=\"T_e3b15_row0_col1\" class=\"data row0 col1\" >166</td>\n",
       "      <td id=\"T_e3b15_row0_col2\" class=\"data row0 col2\" >876</td>\n",
       "      <td id=\"T_e3b15_row0_col3\" class=\"data row0 col3\" >5.277108</td>\n",
       "      <td id=\"T_e3b15_row0_col4\" class=\"data row0 col4\" >1034</td>\n",
       "      <td id=\"T_e3b15_row0_col5\" class=\"data row0 col5\" >248</td>\n",
       "      <td id=\"T_e3b15_row0_col6\" class=\"data row0 col6\" >446</td>\n",
       "      <td id=\"T_e3b15_row0_col7\" class=\"data row0 col7\" >174</td>\n",
       "      <td id=\"T_e3b15_row0_col8\" class=\"data row0 col8\" >166</td>\n",
       "    </tr>\n",
       "    <tr>\n",
       "      <th id=\"T_e3b15_level0_row1\" class=\"row_heading level0 row1\" >1</th>\n",
       "      <td id=\"T_e3b15_row1_col0\" class=\"data row1 col0\" >test</td>\n",
       "      <td id=\"T_e3b15_row1_col1\" class=\"data row1 col1\" >206</td>\n",
       "      <td id=\"T_e3b15_row1_col2\" class=\"data row1 col2\" >1056</td>\n",
       "      <td id=\"T_e3b15_row1_col3\" class=\"data row1 col3\" >5.126214</td>\n",
       "      <td id=\"T_e3b15_row1_col4\" class=\"data row1 col4\" >2147</td>\n",
       "      <td id=\"T_e3b15_row1_col5\" class=\"data row1 col5\" >470</td>\n",
       "      <td id=\"T_e3b15_row1_col6\" class=\"data row1 col6\" >857</td>\n",
       "      <td id=\"T_e3b15_row1_col7\" class=\"data row1 col7\" >463</td>\n",
       "      <td id=\"T_e3b15_row1_col8\" class=\"data row1 col8\" >357</td>\n",
       "    </tr>\n",
       "  </tbody>\n",
       "</table>\n"
      ],
      "text/plain": [
       "<pandas.io.formats.style.Styler at 0x10c2df850>"
      ]
     },
     "metadata": {},
     "output_type": "display_data"
    },
    {
     "data": {
      "text/markdown": [
       "---"
      ],
      "text/plain": [
       "<IPython.core.display.Markdown object>"
      ]
     },
     "metadata": {},
     "output_type": "display_data"
    }
   ],
   "source": [
    "import pandas as pd\n",
    "\n",
    "\n",
    "def count_dbs_and_tables(table_file: str, output_file: str):\n",
    "    df = (\n",
    "        pd.read_json(table_file)\n",
    "        .loc[:, [\"db_id\", \"table_names\"]]\n",
    "        .explode(\"table_names\")\n",
    "        .rename(columns={\"table_names\": \"table\"})\n",
    "        .reset_index(drop=True)\n",
    "    )\n",
    "    df.to_csv(output_file, index=False)\n",
    "    num_dbs = len(df[\"db_id\"].unique())\n",
    "    num_tables = len(df[\"table\"])\n",
    "    average_tables_per_db = num_tables / num_dbs\n",
    "    return num_dbs, num_tables, average_tables_per_db\n",
    "\n",
    "\n",
    "report = {}\n",
    "data = []\n",
    "datasets = [\"dev\", \"test\"]\n",
    "for dataset in datasets:\n",
    "    db_root_dir = (\n",
    "        \"spider_data/database\" if dataset == \"dev\" else \"spider_data/test_database\"\n",
    "    )\n",
    "    input_file_path = f\"prepare_data/{dataset}_input.csv\"\n",
    "    num_dbs, num_tables, average_tables_per_db = count_dbs_and_tables(\n",
    "        table_file=(\n",
    "            \"spider_data/tables.json\"\n",
    "            if dataset == \"dev\"\n",
    "            else \"spider_data/test_tables.json\"\n",
    "        ),\n",
    "        output_file=f\"prepare_data/{dataset}_dbs_and_tables.csv\",\n",
    "    )\n",
    "\n",
    "    solution_df = (\n",
    "        pd.read_json(f\"spider_data/{dataset}.json\", orient=\"records\")\n",
    "        .assign(\n",
    "            question_number=lambda df_: df_.index,\n",
    "            solution_query=lambda df_: df_[\"query\"],\n",
    "        )\n",
    "        .loc[:, [\"question_number\", \"solution_query\"]]\n",
    "    )\n",
    "    question_df = (\n",
    "        pd.read_csv(input_file_path)\n",
    "        .join(\n",
    "            solution_df, on=\"question_number\", how=\"inner\", lsuffix=\"_q\", rsuffix=\"_s\"\n",
    "        )\n",
    "        .reset_index(drop=True)\n",
    "        .loc[:, [\"question\", \"hardness\", \"solution_query\"]]\n",
    "    )\n",
    "\n",
    "    total_questions = len(question_df)\n",
    "    easy_questions = len(question_df.query(\"hardness == 'easy'\"))\n",
    "    medium_questions = len(question_df.query(\"hardness == 'medium'\"))\n",
    "    hard_questions = len(question_df.query(\"hardness == 'hard'\"))\n",
    "    extra_questions = len(question_df.query(\"hardness == 'extra'\"))\n",
    "\n",
    "    data.append(\n",
    "        {\n",
    "            \"dataset\": dataset,\n",
    "            \"num_dbs\": num_dbs,\n",
    "            \"num_tables\": num_tables,\n",
    "            \"average_tables_per_db\": average_tables_per_db,\n",
    "            \"num_questions\": total_questions,\n",
    "            \"num_easy_questions\": easy_questions,\n",
    "            \"num_medium_questions\": medium_questions,\n",
    "            \"num_hard_questions\": hard_questions,\n",
    "            \"num_extra_questions\": extra_questions,\n",
    "        }\n",
    "    )\n",
    "    if dataset == \"test\":\n",
    "        report = {\n",
    "            \"Easy questions\": question_df.query(\"hardness == 'easy'\").head(3),\n",
    "            \"Medium questions\": question_df.query(\"hardness == 'medium'\").head(3),\n",
    "            \"Hard questions\": question_df.query(\"hardness == 'hard'\").head(3),\n",
    "            \"Extra hard questions\": question_df.query(\"hardness == 'extra'\").head(3),\n",
    "        }\n",
    "\n",
    "\n",
    "report[\"Overall\"] = pd.DataFrame(data)\n",
    "display_report(report, report_title=\"Dataset Exploration\")"
   ]
  },
  {
   "cell_type": "markdown",
   "metadata": {},
   "source": [
    "### Evaluation"
   ]
  },
  {
   "cell_type": "markdown",
   "metadata": {},
   "source": [
    "**Prompt Overview**"
   ]
  },
  {
   "cell_type": "code",
   "execution_count": 12,
   "metadata": {},
   "outputs": [],
   "source": [
    "from langchain_core.prompts import PromptTemplate\n",
    "\n",
    "common_prompt_template = PromptTemplate.from_template(\n",
    "    \"\"\"You are an expert in {dialect}. Your job is to read and understand the following [Database Schema] description, along with any [Reference Information], and then use your knowledge of {dialect} to generate an SQL statement that answers the [User Question]. Pay attention to the [Database Schema], only use tables and columns that are in the [Database Schema]. Avoid using any other tables or columns that are not in the [Database Schema].\n",
    "\n",
    "[User Question]\n",
    "{user_question}\n",
    "\n",
    "[Database Schema]\n",
    "{schema}\n",
    "\n",
    "[Reference Information]\n",
    "{example_rows}\n",
    "\n",
    "ONLY OUTPUT THE SQL STATEMENT, NO OTHER TEXT.\n",
    "\"\"\"\n",
    ")\n",
    "xiyan_en_prompt_template = PromptTemplate.from_template(\n",
    "    \"\"\"You are an expert in {dialect}. Your job is to read and understand the following 【Schema】 description, along with any 【Evidence】, and then use your knowledge of {dialect} to generate an SQL statement that answers the 【Question】.\n",
    "\n",
    "【Question】\n",
    "{user_question}\n",
    "\n",
    "【Schema】\n",
    "{schema}\n",
    "\n",
    "【Evidence】\n",
    "{example_rows}\n",
    "\n",
    "【Question】\n",
    "{user_question}\n",
    "```sql\n",
    "\"\"\"\n",
    ")"
   ]
  },
  {
   "cell_type": "code",
   "execution_count": 16,
   "metadata": {},
   "outputs": [
    {
     "data": {
      "text/html": [
       "<div>\n",
       "<style scoped>\n",
       "    .dataframe tbody tr th:only-of-type {\n",
       "        vertical-align: middle;\n",
       "    }\n",
       "\n",
       "    .dataframe tbody tr th {\n",
       "        vertical-align: top;\n",
       "    }\n",
       "\n",
       "    .dataframe thead th {\n",
       "        text-align: right;\n",
       "    }\n",
       "</style>\n",
       "<table border=\"1\" class=\"dataframe\">\n",
       "  <thead>\n",
       "    <tr style=\"text-align: right;\">\n",
       "      <th></th>\n",
       "      <th>question_number</th>\n",
       "      <th>question</th>\n",
       "      <th>hardness</th>\n",
       "      <th>db_id</th>\n",
       "      <th>tables</th>\n",
       "      <th>schemas</th>\n",
       "      <th>example_rows</th>\n",
       "      <th>mschemas</th>\n",
       "    </tr>\n",
       "  </thead>\n",
       "  <tbody>\n",
       "    <tr>\n",
       "      <th>0</th>\n",
       "      <td>0</td>\n",
       "      <td>How many singers do we have?</td>\n",
       "      <td>easy</td>\n",
       "      <td>concert_singer</td>\n",
       "      <td>['singer']</td>\n",
       "      <td>CREATE TABLE \"singer\" (\\n\"Singer_ID\" int,\\n\"Na...</td>\n",
       "      <td>Table: singer\\n(1, 'Joe Sharp', 'Netherlands',...</td>\n",
       "      <td>【DB_ID】 concert_singer\\n【Schema】\\n# Table: mai...</td>\n",
       "    </tr>\n",
       "    <tr>\n",
       "      <th>1</th>\n",
       "      <td>1</td>\n",
       "      <td>What is the total number of singers?</td>\n",
       "      <td>easy</td>\n",
       "      <td>concert_singer</td>\n",
       "      <td>['singer']</td>\n",
       "      <td>CREATE TABLE \"singer\" (\\n\"Singer_ID\" int,\\n\"Na...</td>\n",
       "      <td>Table: singer\\n(1, 'Joe Sharp', 'Netherlands',...</td>\n",
       "      <td>【DB_ID】 concert_singer\\n【Schema】\\n# Table: mai...</td>\n",
       "    </tr>\n",
       "    <tr>\n",
       "      <th>2</th>\n",
       "      <td>2</td>\n",
       "      <td>Show name, country, age for all singers ordere...</td>\n",
       "      <td>medium</td>\n",
       "      <td>concert_singer</td>\n",
       "      <td>['singer']</td>\n",
       "      <td>CREATE TABLE \"singer\" (\\n\"Singer_ID\" int,\\n\"Na...</td>\n",
       "      <td>Table: singer\\n(1, 'Joe Sharp', 'Netherlands',...</td>\n",
       "      <td>【DB_ID】 concert_singer\\n【Schema】\\n# Table: mai...</td>\n",
       "    </tr>\n",
       "  </tbody>\n",
       "</table>\n",
       "</div>"
      ],
      "text/plain": [
       "   question_number                                           question  \\\n",
       "0                0                       How many singers do we have?   \n",
       "1                1               What is the total number of singers?   \n",
       "2                2  Show name, country, age for all singers ordere...   \n",
       "\n",
       "  hardness           db_id      tables  \\\n",
       "0     easy  concert_singer  ['singer']   \n",
       "1     easy  concert_singer  ['singer']   \n",
       "2   medium  concert_singer  ['singer']   \n",
       "\n",
       "                                             schemas  \\\n",
       "0  CREATE TABLE \"singer\" (\\n\"Singer_ID\" int,\\n\"Na...   \n",
       "1  CREATE TABLE \"singer\" (\\n\"Singer_ID\" int,\\n\"Na...   \n",
       "2  CREATE TABLE \"singer\" (\\n\"Singer_ID\" int,\\n\"Na...   \n",
       "\n",
       "                                        example_rows  \\\n",
       "0  Table: singer\\n(1, 'Joe Sharp', 'Netherlands',...   \n",
       "1  Table: singer\\n(1, 'Joe Sharp', 'Netherlands',...   \n",
       "2  Table: singer\\n(1, 'Joe Sharp', 'Netherlands',...   \n",
       "\n",
       "                                            mschemas  \n",
       "0  【DB_ID】 concert_singer\\n【Schema】\\n# Table: mai...  \n",
       "1  【DB_ID】 concert_singer\\n【Schema】\\n# Table: mai...  \n",
       "2  【DB_ID】 concert_singer\\n【Schema】\\n# Table: mai...  "
      ]
     },
     "execution_count": 16,
     "metadata": {},
     "output_type": "execute_result"
    }
   ],
   "source": [
    "input_df = pd.read_csv(\"prepare_data/dev_input.csv\")\n",
    "input_df.head(3)"
   ]
  },
  {
   "cell_type": "markdown",
   "metadata": {},
   "source": [
    "Common prompt"
   ]
  },
  {
   "cell_type": "code",
   "execution_count": 20,
   "metadata": {},
   "outputs": [
    {
     "data": {
      "text/markdown": [
       "You are an expert in sqlite. Your job is to read and understand the following [Database Schema] description, along with any [Reference Information], and then use your knowledge of sqlite to generate an SQL statement that answers the [User Question]. Pay attention to the [Database Schema], only use tables and columns that are in the [Database Schema]. Avoid using any other tables or columns that are not in the [Database Schema].\n",
       "\n",
       "[User Question]\n",
       "How many singers do we have?\n",
       "\n",
       "[Database Schema]\n",
       "CREATE TABLE \"singer\" (\n",
       "\"Singer_ID\" int,\n",
       "\"Name\" text,\n",
       "\"Country\" text,\n",
       "\"Song_Name\" text,\n",
       "\"Song_release_year\" text,\n",
       "\"Age\" int,\n",
       "\"Is_male\" bool,\n",
       "PRIMARY KEY (\"Singer_ID\")\n",
       ")\n",
       "\n",
       "[Reference Information]\n",
       "Table: singer\n",
       "(1, 'Joe Sharp', 'Netherlands', 'You', '1992', 52, 'F')\n",
       "(2, 'Timbaland', 'United States', 'Dangerous', '2008', 32, 'T')\n",
       "(3, 'Justin Brown', 'France', 'Hey Oh', '2013', 29, 'T')\n",
       "\n",
       "ONLY OUTPUT THE SQL STATEMENT, NO OTHER TEXT.\n"
      ],
      "text/plain": [
       "<IPython.core.display.Markdown object>"
      ]
     },
     "execution_count": 20,
     "metadata": {},
     "output_type": "execute_result"
    }
   ],
   "source": [
    "from IPython.display import Markdown\n",
    "\n",
    "\n",
    "Markdown(\n",
    "    common_prompt_template.invoke(\n",
    "        {\n",
    "            \"dialect\": \"sqlite\",\n",
    "            \"user_question\": input_df.iloc[0][\"question\"],\n",
    "            \"schema\": input_df.iloc[0][\"schemas\"],\n",
    "            \"example_rows\": input_df.iloc[0][\"example_rows\"],\n",
    "        }\n",
    "    ).text\n",
    ")"
   ]
  },
  {
   "cell_type": "code",
   "execution_count": 21,
   "metadata": {},
   "outputs": [
    {
     "data": {
      "text/markdown": [
       "You are an expert in sqlite. Your job is to read and understand the following 【Schema】 description, along with any 【Evidence】, and then use your knowledge of sqlite to generate an SQL statement that answers the 【Question】.\n",
       "\n",
       "【Question】\n",
       "How many singers do we have?\n",
       "\n",
       "【Schema】\n",
       "CREATE TABLE \"singer\" (\n",
       "\"Singer_ID\" int,\n",
       "\"Name\" text,\n",
       "\"Country\" text,\n",
       "\"Song_Name\" text,\n",
       "\"Song_release_year\" text,\n",
       "\"Age\" int,\n",
       "\"Is_male\" bool,\n",
       "PRIMARY KEY (\"Singer_ID\")\n",
       ")\n",
       "\n",
       "【Evidence】\n",
       "Table: singer\n",
       "(1, 'Joe Sharp', 'Netherlands', 'You', '1992', 52, 'F')\n",
       "(2, 'Timbaland', 'United States', 'Dangerous', '2008', 32, 'T')\n",
       "(3, 'Justin Brown', 'France', 'Hey Oh', '2013', 29, 'T')\n",
       "\n",
       "【Question】\n",
       "How many singers do we have?\n",
       "```sql\n"
      ],
      "text/plain": [
       "<IPython.core.display.Markdown object>"
      ]
     },
     "execution_count": 21,
     "metadata": {},
     "output_type": "execute_result"
    }
   ],
   "source": [
    "Markdown(\n",
    "    xiyan_en_prompt_template.invoke(\n",
    "        {\n",
    "            \"dialect\": \"sqlite\",\n",
    "            \"user_question\": input_df.iloc[0][\"question\"],\n",
    "            \"schema\": input_df.iloc[0][\"schemas\"],\n",
    "            \"example_rows\": input_df.iloc[0][\"example_rows\"],\n",
    "        }\n",
    "    ).text\n",
    ")"
   ]
  },
  {
   "cell_type": "markdown",
   "metadata": {},
   "source": [
    "**Evaluation result**"
   ]
  },
  {
   "cell_type": "code",
   "execution_count": 19,
   "metadata": {},
   "outputs": [],
   "source": [
    "from evaluation import evaluate_sql\n",
    "import pandas as pd\n",
    "\n",
    "\n",
    "def run_evaluate(model: str, dataset: str):\n",
    "    print(f\"Evaluating {model} on {dataset}\")\n",
    "    result = evaluate_sql(\n",
    "        input_file=f\"prepare_data/{dataset}_input.csv\",\n",
    "        solution_file=f\"spider_data/{dataset}_gold.sql\",\n",
    "        answer_file=f\"inference_data/{model}_{dataset}_inf.txt\",\n",
    "        db_root=(\n",
    "            \"spider_data/database\" if dataset == \"dev\" else \"spider_data/test_database\"\n",
    "        ),\n",
    "    )\n",
    "    result.details_df.to_csv(f\"evaluate_data/{model}_{dataset}_eval.csv\", index=False)\n",
    "    return {\n",
    "        \"model\": model,\n",
    "        \"dataset\": dataset,\n",
    "        **result.summary_data,\n",
    "    }"
   ]
  },
  {
   "cell_type": "code",
   "execution_count": 21,
   "metadata": {},
   "outputs": [
    {
     "name": "stdout",
     "output_type": "stream",
     "text": [
      "Evaluating llama32_3b_base on dev\n",
      "Evaluating llama32_3b_w_ex on dev\n",
      "Evaluating llama32_3b_w_re on dev\n",
      "Evaluating llama32_3b_all on dev\n",
      "Evaluating xiyansql_7b_16_base on dev\n",
      "Evaluating xiyansql_7b_16_w_ex on dev\n",
      "Evaluating xiyansql_7b_16_w_re on dev\n",
      "Evaluating xiyansql_7b_16_all on dev\n",
      "Evaluating llama32_3b_all on test\n",
      "Evaluating xiyansql_7b_16_all on test\n",
      "Evaluating xiyansql_7b_8_all on test\n"
     ]
    }
   ],
   "source": [
    "eval_list = [\n",
    "    {\"model\": \"llama32_3b_base\", \"dataset\": \"dev\"},\n",
    "    {\"model\": \"llama32_3b_w_ex\", \"dataset\": \"dev\"},\n",
    "    {\"model\": \"llama32_3b_w_re\", \"dataset\": \"dev\"},\n",
    "    {\"model\": \"llama32_3b_all\", \"dataset\": \"dev\"},\n",
    "    {\"model\": \"xiyansql_7b_16_base\", \"dataset\": \"dev\"},\n",
    "    {\"model\": \"xiyansql_7b_16_w_ex\", \"dataset\": \"dev\"},\n",
    "    {\"model\": \"xiyansql_7b_16_w_re\", \"dataset\": \"dev\"},\n",
    "    {\"model\": \"xiyansql_7b_16_all\", \"dataset\": \"dev\"},\n",
    "    {\"model\": \"llama32_3b_all\", \"dataset\": \"test\"},\n",
    "    {\"model\": \"xiyansql_7b_16_all\", \"dataset\": \"test\"},\n",
    "    {\"model\": \"xiyansql_7b_8_all\", \"dataset\": \"test\"},\n",
    "]\n",
    "\n",
    "data = []\n",
    "for config in eval_list:\n",
    "    res = run_evaluate(**config)\n",
    "    data.append(res)"
   ]
  },
  {
   "cell_type": "code",
   "execution_count": 22,
   "metadata": {},
   "outputs": [
    {
     "data": {
      "text/html": [
       "<div>\n",
       "<style scoped>\n",
       "    .dataframe tbody tr th:only-of-type {\n",
       "        vertical-align: middle;\n",
       "    }\n",
       "\n",
       "    .dataframe tbody tr th {\n",
       "        vertical-align: top;\n",
       "    }\n",
       "\n",
       "    .dataframe thead th {\n",
       "        text-align: right;\n",
       "    }\n",
       "</style>\n",
       "<table border=\"1\" class=\"dataframe\">\n",
       "  <thead>\n",
       "    <tr style=\"text-align: right;\">\n",
       "      <th></th>\n",
       "      <th>model</th>\n",
       "      <th>dataset</th>\n",
       "      <th>easy</th>\n",
       "      <th>medium</th>\n",
       "      <th>hard</th>\n",
       "      <th>extra</th>\n",
       "      <th>total</th>\n",
       "    </tr>\n",
       "  </thead>\n",
       "  <tbody>\n",
       "    <tr>\n",
       "      <th>0</th>\n",
       "      <td>llama32_3b_base</td>\n",
       "      <td>dev</td>\n",
       "      <td>213/248 (85.89%)</td>\n",
       "      <td>299/446 (67.04%)</td>\n",
       "      <td>88/174 (50.57%)</td>\n",
       "      <td>51/166 (30.72%)</td>\n",
       "      <td>651/1034 (62.96%)</td>\n",
       "    </tr>\n",
       "    <tr>\n",
       "      <th>1</th>\n",
       "      <td>llama32_3b_w_ex</td>\n",
       "      <td>dev</td>\n",
       "      <td>208/248 (83.87%)</td>\n",
       "      <td>307/446 (68.83%)</td>\n",
       "      <td>82/174 (47.13%)</td>\n",
       "      <td>58/166 (34.94%)</td>\n",
       "      <td>655/1034 (63.35%)</td>\n",
       "    </tr>\n",
       "    <tr>\n",
       "      <th>2</th>\n",
       "      <td>llama32_3b_w_re</td>\n",
       "      <td>dev</td>\n",
       "      <td>212/248 (85.48%)</td>\n",
       "      <td>309/446 (69.28%)</td>\n",
       "      <td>89/174 (51.15%)</td>\n",
       "      <td>58/166 (34.94%)</td>\n",
       "      <td>668/1034 (64.6%)</td>\n",
       "    </tr>\n",
       "    <tr>\n",
       "      <th>3</th>\n",
       "      <td>llama32_3b_all</td>\n",
       "      <td>dev</td>\n",
       "      <td>214/248 (86.29%)</td>\n",
       "      <td>320/446 (71.75%)</td>\n",
       "      <td>87/174 (50.0%)</td>\n",
       "      <td>57/166 (34.34%)</td>\n",
       "      <td>678/1034 (65.57%)</td>\n",
       "    </tr>\n",
       "    <tr>\n",
       "      <th>4</th>\n",
       "      <td>xiyansql_7b_16_base</td>\n",
       "      <td>dev</td>\n",
       "      <td>240/248 (96.77%)</td>\n",
       "      <td>397/446 (89.01%)</td>\n",
       "      <td>156/174 (89.66%)</td>\n",
       "      <td>127/166 (76.51%)</td>\n",
       "      <td>920/1034 (88.97%)</td>\n",
       "    </tr>\n",
       "    <tr>\n",
       "      <th>5</th>\n",
       "      <td>xiyansql_7b_16_w_ex</td>\n",
       "      <td>dev</td>\n",
       "      <td>243/248 (97.98%)</td>\n",
       "      <td>409/446 (91.7%)</td>\n",
       "      <td>157/174 (90.23%)</td>\n",
       "      <td>126/166 (75.9%)</td>\n",
       "      <td>935/1034 (90.43%)</td>\n",
       "    </tr>\n",
       "    <tr>\n",
       "      <th>6</th>\n",
       "      <td>xiyansql_7b_16_w_re</td>\n",
       "      <td>dev</td>\n",
       "      <td>241/248 (97.18%)</td>\n",
       "      <td>397/446 (89.01%)</td>\n",
       "      <td>158/174 (90.8%)</td>\n",
       "      <td>126/166 (75.9%)</td>\n",
       "      <td>922/1034 (89.17%)</td>\n",
       "    </tr>\n",
       "    <tr>\n",
       "      <th>7</th>\n",
       "      <td>xiyansql_7b_16_all</td>\n",
       "      <td>dev</td>\n",
       "      <td>243/248 (97.98%)</td>\n",
       "      <td>411/446 (92.15%)</td>\n",
       "      <td>158/174 (90.8%)</td>\n",
       "      <td>127/166 (76.51%)</td>\n",
       "      <td>939/1034 (90.81%)</td>\n",
       "    </tr>\n",
       "    <tr>\n",
       "      <th>8</th>\n",
       "      <td>llama32_3b_all</td>\n",
       "      <td>test</td>\n",
       "      <td>398/470 (84.68%)</td>\n",
       "      <td>583/857 (68.03%)</td>\n",
       "      <td>269/463 (58.1%)</td>\n",
       "      <td>150/357 (42.02%)</td>\n",
       "      <td>1400/2147 (65.21%)</td>\n",
       "    </tr>\n",
       "    <tr>\n",
       "      <th>9</th>\n",
       "      <td>xiyansql_7b_16_all</td>\n",
       "      <td>test</td>\n",
       "      <td>441/470 (93.83%)</td>\n",
       "      <td>709/857 (82.73%)</td>\n",
       "      <td>364/463 (78.62%)</td>\n",
       "      <td>259/357 (72.55%)</td>\n",
       "      <td>1773/2147 (82.58%)</td>\n",
       "    </tr>\n",
       "    <tr>\n",
       "      <th>10</th>\n",
       "      <td>xiyansql_7b_8_all</td>\n",
       "      <td>test</td>\n",
       "      <td>441/470 (93.83%)</td>\n",
       "      <td>709/857 (82.73%)</td>\n",
       "      <td>362/463 (78.19%)</td>\n",
       "      <td>258/357 (72.27%)</td>\n",
       "      <td>1770/2147 (82.44%)</td>\n",
       "    </tr>\n",
       "  </tbody>\n",
       "</table>\n",
       "</div>"
      ],
      "text/plain": [
       "                  model dataset              easy            medium  \\\n",
       "0       llama32_3b_base     dev  213/248 (85.89%)  299/446 (67.04%)   \n",
       "1       llama32_3b_w_ex     dev  208/248 (83.87%)  307/446 (68.83%)   \n",
       "2       llama32_3b_w_re     dev  212/248 (85.48%)  309/446 (69.28%)   \n",
       "3        llama32_3b_all     dev  214/248 (86.29%)  320/446 (71.75%)   \n",
       "4   xiyansql_7b_16_base     dev  240/248 (96.77%)  397/446 (89.01%)   \n",
       "5   xiyansql_7b_16_w_ex     dev  243/248 (97.98%)   409/446 (91.7%)   \n",
       "6   xiyansql_7b_16_w_re     dev  241/248 (97.18%)  397/446 (89.01%)   \n",
       "7    xiyansql_7b_16_all     dev  243/248 (97.98%)  411/446 (92.15%)   \n",
       "8        llama32_3b_all    test  398/470 (84.68%)  583/857 (68.03%)   \n",
       "9    xiyansql_7b_16_all    test  441/470 (93.83%)  709/857 (82.73%)   \n",
       "10    xiyansql_7b_8_all    test  441/470 (93.83%)  709/857 (82.73%)   \n",
       "\n",
       "                hard             extra               total  \n",
       "0    88/174 (50.57%)   51/166 (30.72%)   651/1034 (62.96%)  \n",
       "1    82/174 (47.13%)   58/166 (34.94%)   655/1034 (63.35%)  \n",
       "2    89/174 (51.15%)   58/166 (34.94%)    668/1034 (64.6%)  \n",
       "3     87/174 (50.0%)   57/166 (34.34%)   678/1034 (65.57%)  \n",
       "4   156/174 (89.66%)  127/166 (76.51%)   920/1034 (88.97%)  \n",
       "5   157/174 (90.23%)   126/166 (75.9%)   935/1034 (90.43%)  \n",
       "6    158/174 (90.8%)   126/166 (75.9%)   922/1034 (89.17%)  \n",
       "7    158/174 (90.8%)  127/166 (76.51%)   939/1034 (90.81%)  \n",
       "8    269/463 (58.1%)  150/357 (42.02%)  1400/2147 (65.21%)  \n",
       "9   364/463 (78.62%)  259/357 (72.55%)  1773/2147 (82.58%)  \n",
       "10  362/463 (78.19%)  258/357 (72.27%)  1770/2147 (82.44%)  "
      ]
     },
     "execution_count": 22,
     "metadata": {},
     "output_type": "execute_result"
    }
   ],
   "source": [
    "df = pd.DataFrame(data)\n",
    "df"
   ]
  },
  {
   "cell_type": "code",
   "execution_count": 23,
   "metadata": {},
   "outputs": [],
   "source": [
    "# import sqlglot\n",
    "# import sqlglot.expressions\n",
    "# from sqlglot.expressions import Expression, Column\n",
    "\n",
    "\n",
    "# tree = sqlglot.parse_one(\n",
    "#     \"SELECT a, a as a1, A.a,  max(a), max(a) as max_a, count(*), count(*) as count_a FROM A\"\n",
    "# )\n",
    "# for expr in tree.expressions[1:3]:\n",
    "#     if isinstance(expr, Column):\n",
    "#         print(expr.to_dot())\n",
    "#     if isinstance(expr, sqlglot.expressions.Alias):\n",
    "#         print(expr.unalias().to_dot())"
   ]
  },
  {
   "cell_type": "code",
   "execution_count": null,
   "metadata": {},
   "outputs": [],
   "source": []
  }
 ],
 "metadata": {
  "kernelspec": {
   "display_name": "handsonllm",
   "language": "python",
   "name": "python3"
  },
  "language_info": {
   "codemirror_mode": {
    "name": "ipython",
    "version": 3
   },
   "file_extension": ".py",
   "mimetype": "text/x-python",
   "name": "python",
   "nbconvert_exporter": "python",
   "pygments_lexer": "ipython3",
   "version": "3.11.11"
  }
 },
 "nbformat": 4,
 "nbformat_minor": 2
}
