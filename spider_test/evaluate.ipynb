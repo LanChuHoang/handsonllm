{
 "cells": [
  {
   "cell_type": "code",
   "execution_count": 1,
   "metadata": {},
   "outputs": [],
   "source": [
    "from evaluation import evaluate_sql\n",
    "import pandas as pd\n",
    "\n",
    "\n",
    "def run_evaluate(model: str, dataset: str):\n",
    "    print(\"Evaluating model: \", model, \"on dataset: \", dataset)\n",
    "    result = evaluate_sql(\n",
    "        solution_file=f\"spider_data/{dataset}_gold.sql\",\n",
    "        answer_file=f\"inference_data/{model}_{dataset}_inf.txt\",\n",
    "        db_root=(\n",
    "            \"spider_data/database\" if dataset == \"dev\" else \"spider_data/test_database\"\n",
    "        ),\n",
    "    )\n",
    "    result.details_df.to_csv(f\"evaluate_data/{model}_{dataset}_eval.csv\", index=False)\n",
    "    return {\n",
    "        \"model\": model,\n",
    "        \"dataset\": dataset,\n",
    "        \"total\": result.summary_data[\"total\"],\n",
    "        \"correct\": result.summary_data[\"correct\"],\n",
    "        \"execution_accuracy\": result.summary_data[\"execution_accuracy\"],\n",
    "    }"
   ]
  },
  {
   "cell_type": "code",
   "execution_count": 2,
   "metadata": {},
   "outputs": [
    {
     "name": "stdout",
     "output_type": "stream",
     "text": [
      "Evaluating model:  llama32_3b_w_ex on dataset:  dev\n"
     ]
    }
   ],
   "source": [
    "eval_list = [\n",
    "    {\"model\": \"llama32_3b_w_ex\", \"dataset\": \"dev\"},\n",
    "    # {\"model\": \"llama32_3b_wo_ex\", \"dataset\": \"dev\"},\n",
    "    # {\"model\": \"llama32_3b\", \"dataset\": \"test\"},\n",
    "    # {\"model\": \"xiyansql_7b_8_cn_prompt\", \"dataset\": \"dev\"},\n",
    "    # {\"model\": \"xiyansql_7b_8_en_prompt\", \"dataset\": \"dev\"},\n",
    "    # {\"model\": \"xiyansql_7b_8_en_prompt\", \"dataset\": \"test\"},\n",
    "    # {\"model\": \"xiyansql_7b_16_cn_prompt\", \"dataset\": \"dev\"},\n",
    "    # {\"model\": \"xiyansql_7b_16_en_prompt\", \"dataset\": \"dev\"},\n",
    "    # {\"model\": \"xiyansql_7b_16_en_prompt_vllm\", \"dataset\": \"dev\"},\n",
    "    # {\"model\": \"xiyansql_7b_16_en_prompt_vllm\", \"dataset\": \"test\"},\n",
    "    # {\"model\": \"xiyansql_7b_16_en_prompt_w_ex\", \"dataset\": \"dev\"},\n",
    "    # {\"model\": \"xiyansql_7b_16_en_prompt_w_ex\", \"dataset\": \"test\"},\n",
    "    # {\"model\": \"xiyansql_7b_16_en_prompt_m_schema\", \"dataset\": \"dev\"},\n",
    "    # {\"model\": \"xiyansql_7b_16_en_w_ex\", \"dataset\": \"dev\"},\n",
    "    # {\"model\": \"xiyansql_7b_16_en_wo_ex\", \"dataset\": \"dev\"},\n",
    "    # {\"model\": \"xiyansql_7b_16_en_w_ex\", \"dataset\": \"test\"},\n",
    "    # {\"model\": \"xiyansql_7b_16_en_m_schema\", \"dataset\": \"dev\"},\n",
    "]\n",
    "\n",
    "data = []\n",
    "for config in eval_list:\n",
    "    res = run_evaluate(**config)\n",
    "    data.append(res)"
   ]
  },
  {
   "cell_type": "code",
   "execution_count": 3,
   "metadata": {},
   "outputs": [
    {
     "data": {
      "text/html": [
       "<div>\n",
       "<style scoped>\n",
       "    .dataframe tbody tr th:only-of-type {\n",
       "        vertical-align: middle;\n",
       "    }\n",
       "\n",
       "    .dataframe tbody tr th {\n",
       "        vertical-align: top;\n",
       "    }\n",
       "\n",
       "    .dataframe thead th {\n",
       "        text-align: right;\n",
       "    }\n",
       "</style>\n",
       "<table border=\"1\" class=\"dataframe\">\n",
       "  <thead>\n",
       "    <tr style=\"text-align: right;\">\n",
       "      <th></th>\n",
       "      <th>model</th>\n",
       "      <th>dataset</th>\n",
       "      <th>total</th>\n",
       "      <th>correct</th>\n",
       "      <th>execution_accuracy</th>\n",
       "    </tr>\n",
       "  </thead>\n",
       "  <tbody>\n",
       "    <tr>\n",
       "      <th>0</th>\n",
       "      <td>llama32_3b_w_ex</td>\n",
       "      <td>dev</td>\n",
       "      <td>1034</td>\n",
       "      <td>668</td>\n",
       "      <td>64.6</td>\n",
       "    </tr>\n",
       "  </tbody>\n",
       "</table>\n",
       "</div>"
      ],
      "text/plain": [
       "             model dataset  total  correct  execution_accuracy\n",
       "0  llama32_3b_w_ex     dev   1034      668                64.6"
      ]
     },
     "execution_count": 3,
     "metadata": {},
     "output_type": "execute_result"
    }
   ],
   "source": [
    "df = pd.DataFrame(data)\n",
    "df"
   ]
  }
 ],
 "metadata": {
  "kernelspec": {
   "display_name": "handsonllm",
   "language": "python",
   "name": "python3"
  },
  "language_info": {
   "codemirror_mode": {
    "name": "ipython",
    "version": 3
   },
   "file_extension": ".py",
   "mimetype": "text/x-python",
   "name": "python",
   "nbconvert_exporter": "python",
   "pygments_lexer": "ipython3",
   "version": "3.11.11"
  }
 },
 "nbformat": 4,
 "nbformat_minor": 2
}
