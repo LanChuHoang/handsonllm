{
 "cells": [
  {
   "cell_type": "code",
   "execution_count": 19,
   "metadata": {},
   "outputs": [
    {
     "data": {
      "text/plain": [
       "True"
      ]
     },
     "execution_count": 19,
     "metadata": {},
     "output_type": "execute_result"
    }
   ],
   "source": [
    "from dotenv import load_dotenv\n",
    "\n",
    "load_dotenv()"
   ]
  },
  {
   "cell_type": "markdown",
   "metadata": {},
   "source": [
    "### Embedding"
   ]
  },
  {
   "cell_type": "code",
   "execution_count": 20,
   "metadata": {},
   "outputs": [],
   "source": [
    "from langchain_community.document_loaders import DirectoryLoader, TextLoader\n",
    "\n",
    "loader = DirectoryLoader(\n",
    "    \"./embedding\",\n",
    "    glob=\"*.txt\",\n",
    "    loader_cls=TextLoader,\n",
    "    use_multithreading=True,\n",
    "    show_progress=True,\n",
    ")"
   ]
  },
  {
   "cell_type": "code",
   "execution_count": 21,
   "metadata": {},
   "outputs": [
    {
     "name": "stderr",
     "output_type": "stream",
     "text": [
      "100%|██████████| 12/12 [00:00<00:00, 1286.99it/s]\n"
     ]
    },
    {
     "data": {
      "text/plain": [
       "[Document(metadata={'source': 'embedding/track.txt'}, page_content='Table: tracks\\nDescription:\\n\\nDetailed info on each song: name, composer, length, price.\\n\\nCentral to browsing, playing, inventory.\\n\\nColumns:\\n\\nColumn\\tType\\tDescription\\nTrackId\\tint\\tPK.\\nName\\tnvarchar(400)\\tSong title.\\nAlbumId\\tint (nullable)\\tFK → Album.AlbumId.\\nMediaTypeId\\tint\\tFK → MediaType.MediaTypeId.\\nGenreId\\tint (nullable)\\tFK → Genre.GenreId.\\nComposer\\tnvarchar(440)\\tComposer(s).\\nMilliseconds\\tint\\tTrack length.\\nBytes\\tint (nullable)\\tFile size.\\nUnitPrice\\tnumeric(12,2)\\tRetail price.\\n\\nRelationship:\\n\\nMany-to-one: Track → Album, MediaType, Genre.\\n\\nReferenced by InvoiceLine and PlaylistTrack.\\n\\nTable: playlists\\nDescription:\\n\\nPlaylist name and ID.\\n\\nUsed to organize collections of tracks.\\n\\nColumns:\\n\\nPlaylistId (int): PK.\\n\\nName (nvarchar(120), nullable): Playlist title.\\n\\nRelationship:\\n\\nMany-to-many with tracks through PlaylistTrack.'),\n",
       " Document(metadata={'source': 'embedding/playlist.txt'}, page_content='Table: playlists\\nDescription:\\n\\nPlaylist name and ID.\\n\\nUsed to organize collections of tracks.\\n\\nColumns:\\n\\nPlaylistId (int): PK.\\n\\nName (nvarchar(120), nullable): Playlist title.\\n\\nRelationship:\\n\\nMany-to-many with tracks through PlaylistTrack.'),\n",
       " Document(metadata={'source': 'embedding/media_type.txt'}, page_content='Table: media_types\\nDescription:\\n\\nMedia formats (MP3, AAC, etc.).\\n\\nUseful for filtering tracks by format.\\n\\nColumns:\\n\\nMediaTypeId (int): PK.\\n\\nName (nvarchar(120)): Format name.\\n\\nRelationship:\\n\\nReferenced by Track.MediatypeId.\\n\\n'),\n",
       " Document(metadata={'source': 'embedding/database_summary.txt'}, page_content='Overview:\\nChinook is a fictional digital media store database designed for learning and demos. It models real-world entities—artists, albums, tracks, customers, invoices, employees, playlists, and more—using data inspired by an iTunes library and synthetic sales information. The schema includes 11 relational tables with realistic constraints, indexes, and over 15,000 rows of data.\\n\\nTables & Descriptions:\\nemployees: Information on store staff, including personal details and reporting hierarchy; used for assigning customer support roles and analyzing performance.\\ncustomers: Stores customer profiles and contacts, linking them to their support representatives; essential for order history and marketing.\\ninvoices: Invoice headers containing transaction metadata like date, billing address, and total; core for revenue tracking and financial analysis.\\ninvoice_items (aka invoice_line): Line-item details for each invoice (track sold with price and qty); crucial for item-level sales reporting.\\nartists: Catalog of music artists; foundational for grouping albums and tracks.\\nalbums: Albums tied to artists; used for browsing catalog by album and aggregated media views.\\nmedia_types: Defines format types (e.g., MP3, AAC); supports format-based filtering or reporting.\\ngenres: Standard music genres (Rock, Jazz, etc.); enables genre-based analytics and recommendations.\\ntracks: Core catalog of songs with metadata (title, composer, length, price); central to browsing and sales.\\nplaylists: Named user or system playlists; used for organizing and retrieving track collections.\\nplaylist_track: Many-to-many join between playlists and tracks; supports playlist management and content queries.\\n'),\n",
       " Document(metadata={'source': 'embedding/playlist_track.txt'}, page_content='Table: playlist_track\\nDescription:\\n\\nJunction table linking playlists and tracks.\\n\\nFor tracking which tracks belong to which playlist.\\n\\nColumns:\\n\\nPlaylistId (int): FK → Playlists.\\n\\nTrackId (int): FK → Track.\\n\\nRelationship:\\n\\nComposite PK of (PlaylistId, TrackId).\\n\\nMany-to-one to both Playlist and Track.\\n\\n'),\n",
       " Document(metadata={'source': 'embedding/customer.txt'}, page_content='Table: customers\\nDescription:\\n\\nHolds customer data: names, contact details, billing.\\n\\nCore for managing orders, customer segmentation, support.\\n\\nColumns:\\n\\nColumn\\tType\\tDescription\\nCustomerId\\tint\\tPrimary key.\\nFirstName, LastName\\tnvarchar(40)\\tCustomer name.\\nCompany\\tnvarchar(80)\\tOptional company name.\\nAddress, City, State, Country, PostalCode\\tnvarchar\\tAddress details.\\nPhone, Fax, Email\\tnvarchar\\tContact info.\\nSupportRepId\\tint (nullable)\\tLinks to Employee who supports this customer.\\n\\nRelationship:\\n\\nMany-to-one from Customer.SupportRepId → Employee.EmployeeId.\\n\\nUsed by Invoice table via Invoice.CustomerId.\\n\\n'),\n",
       " Document(metadata={'source': 'embedding/employee.txt'}, page_content='Table: employees\\nDescription:\\n\\nStores staff member info (names, title, hire dates, etc.).\\n\\nCommon use: support ticket assignments, sales reporting, organizational hierarchy.\\n\\nColumns:\\n\\nColumn\\tType\\tDescription\\nEmployeeId\\tint\\tPrimary key identifying the employee.\\nLastName\\tnvarchar(40)\\tEmployee’s last name.\\nFirstName\\tnvarchar(40)\\tEmployee’s first name.\\nTitle\\tnvarchar(60)\\tJob title (e.g., Sales Support Agent).\\nReportsTo\\tint (nullable)\\tManager’s EmployeeId (self-referential).\\nBirthDate\\tdatetime\\tDate of birth.\\nHireDate\\tdatetime\\tWhen employee was hired.\\nAddress, City, State, Country, PostalCode\\tnvarchar\\tContact address components.\\nPhone, Fax, Email\\tnvarchar\\tContact info.\\n\\nRelationship with other tables:\\n\\nReportsTo references Employee.EmployeeId (manager relationship).\\n\\nCustomer.SupportRepId links to Employee.EmployeeId.'),\n",
       " Document(metadata={'source': 'embedding/invoice.txt'}, page_content='Table: invoices\\nDescription:\\n\\nInvoice headers for transactions made by customers.\\n\\nKey for sales reporting, billing analysis.\\n\\nColumns:\\n\\nInvoiceId (int): PK.\\n\\nCustomerId (int): FK → Customer.\\n\\nInvoiceDate (datetime): Invoice date/time.\\n\\nBillingAddress, City, State, Country, PostalCode (nvarchar): Billing details.\\n\\nTotal (numeric(10,2)): Invoice total amount.\\n\\nRelationship:\\n\\nOne-to-many: InvoiceLine references Invoice.InvoiceId.\\n\\nMany-to-one to Customer.'),\n",
       " Document(metadata={'source': 'embedding/album.txt'}, page_content='Table: albums\\nDescription:\\n\\nAlbums grouped by artist.\\n\\nUseful for browsing catalog by album.\\n\\nColumns:\\n\\nAlbumId (int): PK.\\n\\nTitle (nvarchar(160)): Album title.\\n\\nArtistId (int): FK → Artist.ArtistId.\\n\\nRelationship:\\n\\nMany-to-one to artists.\\n\\nOne-to-many with Track.\\n'),\n",
       " Document(metadata={'source': 'embedding/genre.txt'}, page_content='Table: genres\\nDescription:\\n\\nMusic genre taxonomy (Rock, Jazz, etc.).\\n\\nUsed for genre-based queries or filtering.\\n\\nColumns:\\n\\nGenreId (int): PK.\\n\\nName (nvarchar(120)): Genre name.\\n\\nRelationship:\\n\\nReferenced by Track.GenreId.\\n\\n'),\n",
       " Document(metadata={'source': 'embedding/invoice_line.txt'}, page_content='Table: InvoiceLine\\nDescription:\\n\\nLine items per invoice (tracks sold).\\n\\nCritical for order detail, product-level revenue.\\n\\nColumns:\\n\\nInvoiceLineId (int): PK.\\n\\nInvoiceId (int): FK → Invoice.\\n\\nTrackId (int): FK → Track.\\n\\nUnitPrice (numeric(10,2)): Price per unit.\\n\\nQuantity (int): Quantity sold.\\n\\nRelationship:\\n\\nMany-to-one: InvoiceLine → Invoice.\\n\\nMany-to-one: InvoiceLine → Track.'),\n",
       " Document(metadata={'source': 'embedding/artist.txt'}, page_content='Table: artists\\nDescription:\\n\\nStores artist names.\\n\\nFor grouping albums and tracks.\\n\\nColumns:\\n\\nArtistId (int): PK.\\n\\nName (nvarchar(120)): Artist name.\\n\\nRelationship:\\n\\nOne-to-many with Album via Album.ArtistId.\\n\\n')]"
      ]
     },
     "execution_count": 21,
     "metadata": {},
     "output_type": "execute_result"
    }
   ],
   "source": [
    "docs = loader.load()\n",
    "docs"
   ]
  },
  {
   "cell_type": "code",
   "execution_count": 22,
   "metadata": {},
   "outputs": [],
   "source": [
    "from langchain_openai import OpenAIEmbeddings\n",
    "from langchain_core.vectorstores import InMemoryVectorStore\n",
    "\n",
    "\n",
    "embeddings_model = OpenAIEmbeddings(model=\"text-embedding-3-large\")\n",
    "vector_store = InMemoryVectorStore(embeddings_model)"
   ]
  },
  {
   "cell_type": "code",
   "execution_count": 23,
   "metadata": {},
   "outputs": [
    {
     "data": {
      "text/plain": [
       "['6938e3b1-a286-48fa-8965-b20b2b5eab5b',\n",
       " 'be5c779d-0a16-4438-996b-a3962f12f946',\n",
       " '06ec4e2c-8e70-422f-94f9-4c9c934105de',\n",
       " 'ad54533b-1562-48f1-8358-22e79e9f92a8',\n",
       " '01a10780-5f7c-48ef-9fdd-55ed36df444e',\n",
       " '63f79b60-cb14-403d-83b7-e41e36e52a12',\n",
       " '14f734be-f482-4625-92f4-a67e76a612a6',\n",
       " 'b8476d48-ae7d-4844-89b9-e37f4a8b3081',\n",
       " '22b0742b-c485-4d37-8cde-7dc2fe1ebb7f',\n",
       " '8ee924af-58ad-43f8-9a16-351a2889d460',\n",
       " '3f7f0f37-3cf8-4b98-a1e6-62344855540d',\n",
       " '5f3d235a-1aaa-42c2-83f8-ef6ac9e07e49']"
      ]
     },
     "execution_count": 23,
     "metadata": {},
     "output_type": "execute_result"
    }
   ],
   "source": [
    "doc_ids = vector_store.add_documents(docs)\n",
    "doc_ids"
   ]
  },
  {
   "cell_type": "markdown",
   "metadata": {},
   "source": [
    "### App"
   ]
  },
  {
   "cell_type": "code",
   "execution_count": 30,
   "metadata": {},
   "outputs": [],
   "source": [
    "from langchain_core.documents import Document\n",
    "from langgraph.graph import START, StateGraph\n",
    "from pydantic import BaseModel\n",
    "from langchain.chat_models import init_chat_model\n",
    "from langchain_core.prompts import (\n",
    "    ChatPromptTemplate,\n",
    "    SystemMessagePromptTemplate,\n",
    "    HumanMessagePromptTemplate,\n",
    ")\n",
    "\n",
    "llm = init_chat_model(\"gpt-4o-mini\", model_provider=\"openai\")\n",
    "\n",
    "system_prompt = \"\"\"\n",
    "You are an agent designed to interact with a SQL database.\n",
    "Given an input question, create a syntactically correct {dialect} query to run,\n",
    "then look at the results of the query and return the answer. Unless the user\n",
    "specifies a specific number of examples they wish to obtain, always limit your\n",
    "query to at most {top_k} results.\n",
    "\n",
    "You can order the results by a relevant column to return the most interesting\n",
    "examples in the database. Never query for all the columns from a specific table,\n",
    "only ask for the relevant columns given the question.\n",
    "\n",
    "DO NOT make any DML statements (INSERT, UPDATE, DELETE, DROP etc.) to the database.\n",
    "\n",
    "Only return the SQL query, no other text.\n",
    "\"\"\".format(\n",
    "    dialect=\"sqlite\",\n",
    "    top_k=5,\n",
    ")\n",
    "prompt = ChatPromptTemplate.from_messages(\n",
    "    [\n",
    "        SystemMessagePromptTemplate.from_template(\n",
    "            system_prompt  # your SQL-agent instructions with {dialect} and {top_k}\n",
    "        ),\n",
    "        HumanMessagePromptTemplate.from_template(\n",
    "            \"Question: {question}\\nContext:\\n{context}\"\n",
    "        ),\n",
    "    ]\n",
    ")\n",
    "\n",
    "\n",
    "# Define state for application\n",
    "class State(BaseModel):\n",
    "    question: str | None = None\n",
    "    context: list[Document] | None = None\n",
    "    answer: str | None = None\n",
    "\n",
    "\n",
    "# Define application steps\n",
    "def retrieve(state: State):\n",
    "    retrieved_docs = vector_store.similarity_search(state.question)\n",
    "    return {\"context\": retrieved_docs}\n",
    "\n",
    "\n",
    "def generate(state: State):\n",
    "    docs_content = \"\\n\\n\".join(doc.page_content for doc in state.context)\n",
    "    messages = prompt.invoke({\"question\": state.question, \"context\": docs_content})\n",
    "    response = llm.invoke(messages)\n",
    "    return {\"answer\": response.content}\n",
    "\n",
    "\n",
    "# Compile application and test\n",
    "graph_builder = StateGraph(State).add_sequence([retrieve, generate])\n",
    "graph_builder.add_edge(START, \"retrieve\")\n",
    "graph = graph_builder.compile()"
   ]
  },
  {
   "cell_type": "code",
   "execution_count": 31,
   "metadata": {},
   "outputs": [
    {
     "data": {
      "image/png": "[encoded data removed]",
      "text/plain": [
       "<IPython.core.display.Image object>"
      ]
     },
     "metadata": {},
     "output_type": "display_data"
    }
   ],
   "source": [
    "from IPython.display import Image, display\n",
    "\n",
    "display(Image(graph.get_graph().draw_mermaid_png()))"
   ]
  },
  {
   "cell_type": "markdown",
   "metadata": {},
   "source": [
    "### Testing"
   ]
  },
  {
   "cell_type": "code",
   "execution_count": 42,
   "metadata": {},
   "outputs": [],
   "source": [
    "from IPython.display import display, Markdown\n",
    "\n",
    "\n",
    "def pretty_print_step(step):\n",
    "    if step.get(\"retrieve\"):\n",
    "        context = step[\"retrieve\"][\"context\"]\n",
    "        retrieved_docs = [doc.metadata[\"source\"] for doc in context]\n",
    "        print(f\"Retrieved docs: {retrieved_docs}\")\n",
    "    elif step.get(\"generate\"):\n",
    "        display(Markdown(step[\"generate\"][\"answer\"]))\n",
    "    else:\n",
    "        print(step)"
   ]
  },
  {
   "cell_type": "code",
   "execution_count": 43,
   "metadata": {},
   "outputs": [
    {
     "name": "stdout",
     "output_type": "stream",
     "text": [
      "Retrieved docs: ['embedding/album.txt', 'embedding/track.txt', 'embedding/artist.txt', 'embedding/database_summary.txt']\n"
     ]
    },
    {
     "data": {
      "text/markdown": [
       "```sql\n",
       "SELECT a.ArtistId, ar.Name, COUNT(a.AlbumId) AS AlbumCount\n",
       "FROM albums a\n",
       "JOIN artists ar ON a.ArtistId = ar.ArtistId\n",
       "GROUP BY a.ArtistId, ar.Name\n",
       "ORDER BY AlbumCount DESC\n",
       "LIMIT 5;\n",
       "```"
      ],
      "text/plain": [
       "<IPython.core.display.Markdown object>"
      ]
     },
     "metadata": {},
     "output_type": "display_data"
    }
   ],
   "source": [
    "for step in graph.stream(\n",
    "    {\"question\": \"Who has the most number of albums\"},\n",
    "    stream_mode=\"updates\",\n",
    "):\n",
    "    pretty_print_step(step)"
   ]
  },
  {
   "cell_type": "code",
   "execution_count": 44,
   "metadata": {},
   "outputs": [
    {
     "name": "stdout",
     "output_type": "stream",
     "text": [
      "Retrieved docs: ['embedding/track.txt', 'embedding/album.txt', 'embedding/playlist_track.txt', 'embedding/artist.txt']\n"
     ]
    },
    {
     "data": {
      "text/markdown": [
       "```sql\n",
       "SELECT COUNT(*) AS TrackCount \n",
       "FROM tracks \n",
       "WHERE Composer = 'Angus Young, Malcolm Young, Brian Johnson';\n",
       "```"
      ],
      "text/plain": [
       "<IPython.core.display.Markdown object>"
      ]
     },
     "metadata": {},
     "output_type": "display_data"
    }
   ],
   "source": [
    "for step in graph.stream(\n",
    "    {\n",
    "        \"question\": \"How many tracks have composer 'Angus Young, Malcolm Young, Brian Johnson'\"\n",
    "    },\n",
    "    stream_mode=\"updates\",\n",
    "):\n",
    "    pretty_print_step(step)"
   ]
  },
  {
   "cell_type": "code",
   "execution_count": 45,
   "metadata": {},
   "outputs": [
    {
     "name": "stdout",
     "output_type": "stream",
     "text": [
      "Retrieved docs: ['embedding/track.txt', 'embedding/invoice_line.txt', 'embedding/playlist_track.txt', 'embedding/database_summary.txt']\n"
     ]
    },
    {
     "data": {
      "text/markdown": [
       "```sql\n",
       "SELECT composer, SUM(il.UnitPrice * il.Quantity) AS total_sales\n",
       "FROM InvoiceLine il\n",
       "JOIN tracks t ON il.TrackId = t.TrackId\n",
       "GROUP BY composer\n",
       "HAVING total_sales > 100\n",
       "ORDER BY total_sales DESC\n",
       "LIMIT 5;\n",
       "```"
      ],
      "text/plain": [
       "<IPython.core.display.Markdown object>"
      ]
     },
     "metadata": {},
     "output_type": "display_data"
    }
   ],
   "source": [
    "for step in graph.stream(\n",
    "    {\"question\": \"Which composers's tracks have generated over $100 in total sales?\"},\n",
    "    stream_mode=\"updates\",\n",
    "):\n",
    "    pretty_print_step(step)"
   ]
  },
  {
   "cell_type": "code",
   "execution_count": null,
   "metadata": {},
   "outputs": [],
   "source": []
  }
 ],
 "metadata": {
  "kernelspec": {
   "display_name": "handsonllm",
   "language": "python",
   "name": "python3"
  },
  "language_info": {
   "codemirror_mode": {
    "name": "ipython",
    "version": 3
   },
   "file_extension": ".py",
   "mimetype": "text/x-python",
   "name": "python",
   "nbconvert_exporter": "python",
   "pygments_lexer": "ipython3",
   "version": "3.11.11"
  }
 },
 "nbformat": 4,
 "nbformat_minor": 2
}
