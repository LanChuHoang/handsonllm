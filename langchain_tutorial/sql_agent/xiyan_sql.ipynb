{
 "cells": [
  {
   "cell_type": "code",
   "execution_count": 1,
   "metadata": {},
   "outputs": [],
   "source": [
    "from langchain_ollama import ChatOllama\n",
    "\n",
    "\n",
    "llm = ChatOllama(model=\"hf.co/mradermacher/XiYanSQL-QwenCoder-7B-2504-GGUF:F16\")"
   ]
  },
  {
   "cell_type": "code",
   "execution_count": 2,
   "metadata": {},
   "outputs": [
    {
     "data": {
      "text/plain": [
       "AIMessage(content='SELECT a.authorname FROM author a JOIN writes w ON a.authorid = w.authorid GROUP BY a.authorid HAVING COUNT(w.paperid) > 5;', additional_kwargs={}, response_metadata={'model': 'hf.co/mradermacher/XiYanSQL-QwenCoder-7B-2504-GGUF:F16', 'created_at': '2025-06-19T02:30:02.020707Z', 'done': True, 'done_reason': 'stop', 'total_duration': 51464167794, 'load_duration': 18583446882, 'prompt_eval_count': 138, 'prompt_eval_duration': 18115351550, 'eval_count': 35, 'eval_duration': 14752386873, 'model_name': 'hf.co/mradermacher/XiYanSQL-QwenCoder-7B-2504-GGUF:F16'}, id='run--a1f47605-9893-42f6-aeb8-7607e0979c33-0', usage_metadata={'input_tokens': 138, 'output_tokens': 35, 'total_tokens': 173})"
      ]
     },
     "execution_count": 2,
     "metadata": {},
     "output_type": "execute_result"
    }
   ],
   "source": [
    "\n",
    "\n",
    "llm.invoke(input=\"\"\"\n",
    "You are an expert in PostgreSQL. Your job is to read and understand the following [Database Schema] description, along with any [Reference Information], and then use your knowledge of PostgreSQL to generate an SQL statement that answers the [User Question].\n",
    "\n",
    "[User Question]\n",
    "Find the names of authors who have written more than 5 papers.\n",
    "\n",
    "[Database Schema]\n",
    "CREATE TABLE author (\n",
    "  authorid INT,\n",
    "  authorname VARCHAR(255)\n",
    ");\n",
    "CREATE TABLE writes (\n",
    "  paperid INT,\n",
    "  authorid INT\n",
    ");\n",
    "\n",
    "[Reference Information]\n",
    "None\n",
    "\n",
    "[User Question]\n",
    "Find the names of authors who have written more than 5 papers.\n",
    "\n",
    "```sql\"\"\")"
   ]
  },
  {
   "cell_type": "code",
   "execution_count": 3,
   "metadata": {},
   "outputs": [
    {
     "name": "stdout",
     "output_type": "stream",
     "text": [
      "SELECT a.authorname FROM author a JOIN writes w ON a.authorid = w.authorid GROUP BY a.authorid HAVING COUNT(w.paperid) > 5;"
     ]
    }
   ],
   "source": [
    "for step in llm.stream(\n",
    "    input=\"\"\"\n",
    "You are an expert in PostgreSQL. Your job is to read and understand the following [Database Schema] description, along with any [Reference Information], and then use your knowledge of PostgreSQL to generate an SQL statement that answers the [User Question].\n",
    "\n",
    "[User Question]\n",
    "Find the names of authors who have written more than 5 papers.\n",
    "\n",
    "[Database Schema]\n",
    "CREATE TABLE author (\n",
    "  authorid INT,\n",
    "  authorname VARCHAR(255)\n",
    ");\n",
    "CREATE TABLE writes (\n",
    "  paperid INT,\n",
    "  authorid INT\n",
    ");\n",
    "\n",
    "[Reference Information]\n",
    "None\n",
    "\n",
    "[User Question]\n",
    "Find the names of authors who have written more than 5 papers.\n",
    "```sql\"\"\"\n",
    "):\n",
    "    print(step.text(), end=\"\")"
   ]
  },
  {
   "cell_type": "code",
   "execution_count": 4,
   "metadata": {},
   "outputs": [],
   "source": [
    "def stream(prompt: str):\n",
    "    for step in llm.stream(prompt):\n",
    "        print(step.text(), end=\"\")"
   ]
  },
  {
   "cell_type": "code",
   "execution_count": 5,
   "metadata": {},
   "outputs": [
    {
     "name": "stdout",
     "output_type": "stream",
     "text": [
      "SELECT COUNT(*) FROM \"public\".\"order\" WHERE \"status\" = 'cancelled';"
     ]
    }
   ],
   "source": [
    "stream(\n",
    "    \"You are an expert in PostgreSQL. Your job is to read and understand the following [Database Schema] description, along with any [Reference Information], and then use your knowledge of PostgreSQL to generate an SQL statement that answers the [User Question].\"\n",
    ")"
   ]
  },
  {
   "cell_type": "code",
   "execution_count": 6,
   "metadata": {},
   "outputs": [
    {
     "name": "stdout",
     "output_type": "stream",
     "text": [
      "SELECT T1.authorname FROM author AS T1 JOIN writes AS T2 ON T1.authorid = T2.authorid GROUP BY T2.authorid HAVING COUNT(*) > 5"
     ]
    }
   ],
   "source": [
    "stream(\n",
    "    \"\"\"\n",
    "[User Question]\n",
    "Find the names of authors who have written more than 5 papers.\n",
    "\n",
    "[Database Schema]\n",
    "CREATE TABLE author (\n",
    "  authorid INT,\n",
    "  authorname VARCHAR(255)\n",
    ");\n",
    "CREATE TABLE writes (\n",
    "  paperid INT,\n",
    "  authorid INT\n",
    ");\n",
    "\n",
    "[Reference Information]\n",
    "None\n",
    "\n",
    "[User Question]\n",
    "Find the names of authors who have written more than 5 papers.\n",
    "```sql\n",
    "       \"\"\"\n",
    ")"
   ]
  },
  {
   "cell_type": "code",
   "execution_count": 7,
   "metadata": {},
   "outputs": [
    {
     "name": "stdout",
     "output_type": "stream",
     "text": [
      "Hello! How can I assist you today?"
     ]
    }
   ],
   "source": [
    "stream(\"HELLO\")"
   ]
  },
  {
   "cell_type": "code",
   "execution_count": 9,
   "metadata": {},
   "outputs": [
    {
     "name": "stdout",
     "output_type": "stream",
     "text": [
      "Understood! Please go ahead and ask your question, and I'll generate the appropriate SQL statement for you based on the provided database schema and reference information."
     ]
    }
   ],
   "source": [
    "stream(\n",
    "    \"System: You are an expert in PostgreSQL. Your job is to read and understand the following [Database Schema] description, along with any [Reference Information], and then use your knowledge of PostgreSQL to generate an SQL statement that answers the [User Question]. Now I will provide you the question and you need to answer that.\"\n",
    ")"
   ]
  },
  {
   "cell_type": "code",
   "execution_count": 10,
   "metadata": {},
   "outputs": [
    {
     "name": "stdout",
     "output_type": "stream",
     "text": [
      "SELECT T1.authorname FROM author AS T1 JOIN writes AS T2 ON T1.authorid = T2.authorid GROUP BY T2.authorid HAVING COUNT(*) > 5"
     ]
    }
   ],
   "source": [
    "stream(\n",
    "    \"\"\"\n",
    "[User Question]\n",
    "Find the names of authors who have written more than 5 papers.\n",
    "\n",
    "[Database Schema]\n",
    "CREATE TABLE author (\n",
    "  authorid INT,\n",
    "  authorname VARCHAR(255)\n",
    ");\n",
    "CREATE TABLE writes (\n",
    "  paperid INT,\n",
    "  authorid INT\n",
    ");\n",
    "\n",
    "[Reference Information]\n",
    "None\n",
    "\n",
    "[User Question]\n",
    "Find the names of authors who have written more than 5 papers.\n",
    "```sql\n",
    "       \"\"\"\n",
    ")"
   ]
  },
  {
   "cell_type": "code",
   "execution_count": 15,
   "metadata": {},
   "outputs": [
    {
     "name": "stdout",
     "output_type": "stream",
     "text": [
      "tracks, invoice_items"
     ]
    }
   ],
   "source": [
    "stream(\n",
    "    \"\"\"\n",
    "Here is the database information\n",
    "Overview:\n",
    "Chinook is a fictional digital media store database designed for learning and demos. It models real-world entities—artists, albums, tracks, customers, invoices, employees, playlists, and more—using data inspired by an iTunes library and synthetic sales information. The schema includes 11 relational tables with realistic constraints, indexes, and over 15,000 rows of data.\n",
    "\n",
    "Tables & Descriptions:\n",
    "employees: Information on store staff, including personal details and reporting hierarchy; used for assigning customer support roles and analyzing performance.\n",
    "customers: Stores customer profiles and contacts, linking them to their support representatives; essential for order history and marketing.\n",
    "invoices: Invoice headers containing transaction metadata like date, billing address, and total; core for revenue tracking and financial analysis.\n",
    "invoice_items (aka invoice_line): Line-item details for each invoice (track sold with price and qty); crucial for item-level sales reporting.\n",
    "artists: Catalog of music artists; foundational for grouping albums and tracks.\n",
    "albums: Albums tied to artists; used for browsing catalog by album and aggregated media views.\n",
    "media_types: Defines format types (e.g., MP3, AAC); supports format-based filtering or reporting.\n",
    "genres: Standard music genres (Rock, Jazz, etc.); enables genre-based analytics and recommendations.\n",
    "tracks: Core catalog of songs with metadata (title, composer, length, price); central to browsing and sales.\n",
    "playlists: Named user or system playlists; used for organizing and retrieving track collections.\n",
    "playlist_track: Many-to-many join between playlists and tracks; supports playlist management and content queries.\n",
    "    \n",
    "    Your task is choosing the tables can be used to answer the user question\n",
    "    User question: Which composers's tracks have generated over $100 in total sales?\n",
    "    \n",
    "    ONLY OUTPUT THE CHOSEN TABLES in a comma seperated list\n",
    "    \"\"\"\n",
    ")"
   ]
  },
  {
   "cell_type": "code",
   "execution_count": 23,
   "metadata": {},
   "outputs": [
    {
     "name": "stdout",
     "output_type": "stream",
     "text": [
      "SELECT t.Composer FROM Track t JOIN InvoiceLine il ON t.TrackId = il.TrackId GROUP BY t.Composer HAVING SUM(il.UnitPrice * il.Quantity) > 100;"
     ]
    }
   ],
   "source": [
    "stream(\n",
    "    \"\"\"\n",
    "  You are an expert in PostgreSQL. Your job is to read and understand the following [Database Schema] description, along with any [Reference Information], and then use your knowledge of PostgreSQL to generate an SQL statement that answers the [User Question].\n",
    "\n",
    "[User Question]\n",
    "Which composers's tracks have generated over $100 in total sales?\n",
    "\n",
    "[Database Schema]\n",
    "CREATE TABLE \"InvoiceLine\" (\n",
    "\t\"InvoiceLineId\" INTEGER NOT NULL, \n",
    "\t\"InvoiceId\" INTEGER NOT NULL, \n",
    "\t\"TrackId\" INTEGER NOT NULL, \n",
    "\t\"UnitPrice\" NUMERIC(10, 2) NOT NULL, \n",
    "\t\"Quantity\" INTEGER NOT NULL, \n",
    "\tPRIMARY KEY (\"InvoiceLineId\"), \n",
    "\tFOREIGN KEY(\"TrackId\") REFERENCES \"Track\" (\"TrackId\"), \n",
    "\tFOREIGN KEY(\"InvoiceId\") REFERENCES \"Invoice\" (\"InvoiceId\")\n",
    ");\n",
    "CREATE TABLE \"Track\" (\n",
    "\t\"TrackId\" INTEGER NOT NULL, \n",
    "\t\"Name\" NVARCHAR(200) NOT NULL, \n",
    "\t\"AlbumId\" INTEGER, \n",
    "\t\"MediaTypeId\" INTEGER NOT NULL, \n",
    "\t\"GenreId\" INTEGER, \n",
    "\t\"Composer\" NVARCHAR(220), \n",
    "\t\"Milliseconds\" INTEGER NOT NULL, \n",
    "\t\"Bytes\" INTEGER, \n",
    "\t\"UnitPrice\" NUMERIC(10, 2) NOT NULL, \n",
    "\tPRIMARY KEY (\"TrackId\"), \n",
    "\tFOREIGN KEY(\"MediaTypeId\") REFERENCES \"MediaType\" (\"MediaTypeId\"), \n",
    "\tFOREIGN KEY(\"GenreId\") REFERENCES \"Genre\" (\"GenreId\"), \n",
    "\tFOREIGN KEY(\"AlbumId\") REFERENCES \"Album\" (\"AlbumId\")\n",
    ")\n",
    "\n",
    "[Reference Information]\n",
    "3 rows from InvoiceLine table:\n",
    "InvoiceLineId\tInvoiceId\tTrackId\tUnitPrice\tQuantity\n",
    "1\t1\t2\t0.99\t1\n",
    "2\t1\t4\t0.99\t1\n",
    "3\t2\t6\t0.99\t1\n",
    "3 rows from Track table:\n",
    "TrackId\tName\tAlbumId\tMediaTypeId\tGenreId\tComposer\tMilliseconds\tBytes\tUnitPrice\n",
    "1\tFor Those About To Rock (We Salute You)\t1\t1\t1\tAngus Young, Malcolm Young, Brian Johnson\t343719\t11170334\t0.99\n",
    "2\tBalls to the Wall\t2\t2\t1\tU. Dirkschneider, W. Hoffmann, H. Frank, P. Baltes, S. Kaufmann, G. Hoffmann\t342562\t5510424\t0.99\n",
    "3\tFast As a Shark\t3\t2\t1\tF. Baltes, S. Kaufman, U. Dirkscneider & W. Hoffman\t230619\t3990994\t0.99\n",
    "\n",
    "[User Question]\n",
    "Which composers's tracks have generated over $100 in total sales?\n",
    "```sql\n",
    "  \"\"\"\n",
    ")"
   ]
  },
  {
   "cell_type": "code",
   "execution_count": 19,
   "metadata": {},
   "outputs": [
    {
     "name": "stdout",
     "output_type": "stream",
     "text": [
      "sqlite\n",
      "['Album', 'Artist', 'Customer', 'Employee', 'Genre', 'Invoice', 'InvoiceLine', 'MediaType', 'Playlist', 'PlaylistTrack', 'Track']\n"
     ]
    },
    {
     "data": {
      "text/plain": [
       "'\\nCREATE TABLE \"InvoiceLine\" (\\n\\t\"InvoiceLineId\" INTEGER NOT NULL, \\n\\t\"InvoiceId\" INTEGER NOT NULL, \\n\\t\"TrackId\" INTEGER NOT NULL, \\n\\t\"UnitPrice\" NUMERIC(10, 2) NOT NULL, \\n\\t\"Quantity\" INTEGER NOT NULL, \\n\\tPRIMARY KEY (\"InvoiceLineId\"), \\n\\tFOREIGN KEY(\"TrackId\") REFERENCES \"Track\" (\"TrackId\"), \\n\\tFOREIGN KEY(\"InvoiceId\") REFERENCES \"Invoice\" (\"InvoiceId\")\\n)\\n\\n/*\\n3 rows from InvoiceLine table:\\nInvoiceLineId\\tInvoiceId\\tTrackId\\tUnitPrice\\tQuantity\\n1\\t1\\t2\\t0.99\\t1\\n2\\t1\\t4\\t0.99\\t1\\n3\\t2\\t6\\t0.99\\t1\\n*/\\n\\n\\nCREATE TABLE \"Track\" (\\n\\t\"TrackId\" INTEGER NOT NULL, \\n\\t\"Name\" NVARCHAR(200) NOT NULL, \\n\\t\"AlbumId\" INTEGER, \\n\\t\"MediaTypeId\" INTEGER NOT NULL, \\n\\t\"GenreId\" INTEGER, \\n\\t\"Composer\" NVARCHAR(220), \\n\\t\"Milliseconds\" INTEGER NOT NULL, \\n\\t\"Bytes\" INTEGER, \\n\\t\"UnitPrice\" NUMERIC(10, 2) NOT NULL, \\n\\tPRIMARY KEY (\"TrackId\"), \\n\\tFOREIGN KEY(\"MediaTypeId\") REFERENCES \"MediaType\" (\"MediaTypeId\"), \\n\\tFOREIGN KEY(\"GenreId\") REFERENCES \"Genre\" (\"GenreId\"), \\n\\tFOREIGN KEY(\"AlbumId\") REFERENCES \"Album\" (\"AlbumId\")\\n)\\n\\n/*\\n3 rows from Track table:\\nTrackId\\tName\\tAlbumId\\tMediaTypeId\\tGenreId\\tComposer\\tMilliseconds\\tBytes\\tUnitPrice\\n1\\tFor Those About To Rock (We Salute You)\\t1\\t1\\t1\\tAngus Young, Malcolm Young, Brian Johnson\\t343719\\t11170334\\t0.99\\n2\\tBalls to the Wall\\t2\\t2\\t1\\tU. Dirkschneider, W. Hoffmann, H. Frank, P. Baltes, S. Kaufmann, G. Hoffmann\\t342562\\t5510424\\t0.99\\n3\\tFast As a Shark\\t3\\t2\\t1\\tF. Baltes, S. Kaufman, U. Dirkscneider & W. Hoffman\\t230619\\t3990994\\t0.99\\n*/'"
      ]
     },
     "execution_count": 19,
     "metadata": {},
     "output_type": "execute_result"
    }
   ],
   "source": [
    "from langchain_community.utilities import SQLDatabase\n",
    "\n",
    "db = SQLDatabase.from_uri(\"sqlite:///../../Chinook.db\")\n",
    "print(db.dialect)\n",
    "print(db.get_usable_table_names())\n",
    "db.get_table_info([\"Track\", \"InvoiceLine\"])"
   ]
  },
  {
   "cell_type": "code",
   "execution_count": 20,
   "metadata": {},
   "outputs": [
    {
     "name": "stdout",
     "output_type": "stream",
     "text": [
      "\n",
      "CREATE TABLE \"InvoiceLine\" (\n",
      "\t\"InvoiceLineId\" INTEGER NOT NULL, \n",
      "\t\"InvoiceId\" INTEGER NOT NULL, \n",
      "\t\"TrackId\" INTEGER NOT NULL, \n",
      "\t\"UnitPrice\" NUMERIC(10, 2) NOT NULL, \n",
      "\t\"Quantity\" INTEGER NOT NULL, \n",
      "\tPRIMARY KEY (\"InvoiceLineId\"), \n",
      "\tFOREIGN KEY(\"TrackId\") REFERENCES \"Track\" (\"TrackId\"), \n",
      "\tFOREIGN KEY(\"InvoiceId\") REFERENCES \"Invoice\" (\"InvoiceId\")\n",
      ")\n",
      "\n",
      "/*\n",
      "3 rows from InvoiceLine table:\n",
      "InvoiceLineId\tInvoiceId\tTrackId\tUnitPrice\tQuantity\n",
      "1\t1\t2\t0.99\t1\n",
      "2\t1\t4\t0.99\t1\n",
      "3\t2\t6\t0.99\t1\n",
      "*/\n",
      "\n",
      "\n",
      "CREATE TABLE \"Track\" (\n",
      "\t\"TrackId\" INTEGER NOT NULL, \n",
      "\t\"Name\" NVARCHAR(200) NOT NULL, \n",
      "\t\"AlbumId\" INTEGER, \n",
      "\t\"MediaTypeId\" INTEGER NOT NULL, \n",
      "\t\"GenreId\" INTEGER, \n",
      "\t\"Composer\" NVARCHAR(220), \n",
      "\t\"Milliseconds\" INTEGER NOT NULL, \n",
      "\t\"Bytes\" INTEGER, \n",
      "\t\"UnitPrice\" NUMERIC(10, 2) NOT NULL, \n",
      "\tPRIMARY KEY (\"TrackId\"), \n",
      "\tFOREIGN KEY(\"MediaTypeId\") REFERENCES \"MediaType\" (\"MediaTypeId\"), \n",
      "\tFOREIGN KEY(\"GenreId\") REFERENCES \"Genre\" (\"GenreId\"), \n",
      "\tFOREIGN KEY(\"AlbumId\") REFERENCES \"Album\" (\"AlbumId\")\n",
      ")\n",
      "\n",
      "/*\n",
      "3 rows from Track table:\n",
      "TrackId\tName\tAlbumId\tMediaTypeId\tGenreId\tComposer\tMilliseconds\tBytes\tUnitPrice\n",
      "1\tFor Those About To Rock (We Salute You)\t1\t1\t1\tAngus Young, Malcolm Young, Brian Johnson\t343719\t11170334\t0.99\n",
      "2\tBalls to the Wall\t2\t2\t1\tU. Dirkschneider, W. Hoffmann, H. Frank, P. Baltes, S. Kaufmann, G. Hoffmann\t342562\t5510424\t0.99\n",
      "3\tFast As a Shark\t3\t2\t1\tF. Baltes, S. Kaufman, U. Dirkscneider & W. Hoffman\t230619\t3990994\t0.99\n",
      "*/\n"
     ]
    }
   ],
   "source": [
    "print(\n",
    "    '\\nCREATE TABLE \"InvoiceLine\" (\\n\\t\"InvoiceLineId\" INTEGER NOT NULL, \\n\\t\"InvoiceId\" INTEGER NOT NULL, \\n\\t\"TrackId\" INTEGER NOT NULL, \\n\\t\"UnitPrice\" NUMERIC(10, 2) NOT NULL, \\n\\t\"Quantity\" INTEGER NOT NULL, \\n\\tPRIMARY KEY (\"InvoiceLineId\"), \\n\\tFOREIGN KEY(\"TrackId\") REFERENCES \"Track\" (\"TrackId\"), \\n\\tFOREIGN KEY(\"InvoiceId\") REFERENCES \"Invoice\" (\"InvoiceId\")\\n)\\n\\n/*\\n3 rows from InvoiceLine table:\\nInvoiceLineId\\tInvoiceId\\tTrackId\\tUnitPrice\\tQuantity\\n1\\t1\\t2\\t0.99\\t1\\n2\\t1\\t4\\t0.99\\t1\\n3\\t2\\t6\\t0.99\\t1\\n*/\\n\\n\\nCREATE TABLE \"Track\" (\\n\\t\"TrackId\" INTEGER NOT NULL, \\n\\t\"Name\" NVARCHAR(200) NOT NULL, \\n\\t\"AlbumId\" INTEGER, \\n\\t\"MediaTypeId\" INTEGER NOT NULL, \\n\\t\"GenreId\" INTEGER, \\n\\t\"Composer\" NVARCHAR(220), \\n\\t\"Milliseconds\" INTEGER NOT NULL, \\n\\t\"Bytes\" INTEGER, \\n\\t\"UnitPrice\" NUMERIC(10, 2) NOT NULL, \\n\\tPRIMARY KEY (\"TrackId\"), \\n\\tFOREIGN KEY(\"MediaTypeId\") REFERENCES \"MediaType\" (\"MediaTypeId\"), \\n\\tFOREIGN KEY(\"GenreId\") REFERENCES \"Genre\" (\"GenreId\"), \\n\\tFOREIGN KEY(\"AlbumId\") REFERENCES \"Album\" (\"AlbumId\")\\n)\\n\\n/*\\n3 rows from Track table:\\nTrackId\\tName\\tAlbumId\\tMediaTypeId\\tGenreId\\tComposer\\tMilliseconds\\tBytes\\tUnitPrice\\n1\\tFor Those About To Rock (We Salute You)\\t1\\t1\\t1\\tAngus Young, Malcolm Young, Brian Johnson\\t343719\\t11170334\\t0.99\\n2\\tBalls to the Wall\\t2\\t2\\t1\\tU. Dirkschneider, W. Hoffmann, H. Frank, P. Baltes, S. Kaufmann, G. Hoffmann\\t342562\\t5510424\\t0.99\\n3\\tFast As a Shark\\t3\\t2\\t1\\tF. Baltes, S. Kaufman, U. Dirkscneider & W. Hoffman\\t230619\\t3990994\\t0.99\\n*/'\n",
    ")"
   ]
  },
  {
   "cell_type": "code",
   "execution_count": null,
   "metadata": {},
   "outputs": [],
   "source": []
  }
 ],
 "metadata": {
  "kernelspec": {
   "display_name": "handsonllm",
   "language": "python",
   "name": "python3"
  },
  "language_info": {
   "codemirror_mode": {
    "name": "ipython",
    "version": 3
   },
   "file_extension": ".py",
   "mimetype": "text/x-python",
   "name": "python",
   "nbconvert_exporter": "python",
   "pygments_lexer": "ipython3",
   "version": "3.11.11"
  }
 },
 "nbformat": 4,
 "nbformat_minor": 2
}
